{
  "nbformat": 4,
  "nbformat_minor": 0,
  "metadata": {
    "colab": {
      "provenance": [],
      "mount_file_id": "1UX1FMnReC2ojZB6tV1Oyf4Gw2RErDVuF",
      "authorship_tag": "ABX9TyNoJjaaxV5ZIo/7Dzv+n7IV",
      "include_colab_link": true
    },
    "kernelspec": {
      "name": "python3",
      "display_name": "Python 3"
    },
    "language_info": {
      "name": "python"
    }
  },
  "cells": [
    {
      "cell_type": "markdown",
      "metadata": {
        "id": "view-in-github",
        "colab_type": "text"
      },
      "source": [
        "<a href=\"https://colab.research.google.com/github/olhaishchenko/-data_science/blob/master/H_w__5.ipynb\" target=\"_parent\"><img src=\"https://colab.research.google.com/assets/colab-badge.svg\" alt=\"Open In Colab\"/></a>"
      ]
    },
    {
      "cell_type": "code",
      "execution_count": 73,
      "metadata": {
        "id": "vOa6iXfp5BLz"
      },
      "outputs": [],
      "source": [
        "import numpy as np\n",
        "import pandas as pd\n",
        "\n",
        "from sklearn import datasets\n",
        "from sklearn.ensemble import RandomForestClassifier\n",
        "from sklearn.model_selection import train_test_split\n",
        "from sklearn.svm import SVC\n",
        "from sklearn.metrics import accuracy_score, f1_score, roc_auc_score\n",
        "from sklearn.model_selection import GridSearchCV\n"
      ]
    },
    {
      "cell_type": "code",
      "source": [
        "df = pd.read_csv(\"/content/drive/MyDrive/Colab Notebooks/df_accelerometer.csv\", delimiter=\",\")"
      ],
      "metadata": {
        "id": "rmRbCppa5H45"
      },
      "execution_count": 74,
      "outputs": []
    },
    {
      "cell_type": "code",
      "source": [
        "df_cut = df.drop(\"kinds\", axis=1)"
      ],
      "metadata": {
        "id": "3iyE5udS7N4_"
      },
      "execution_count": 75,
      "outputs": []
    },
    {
      "cell_type": "code",
      "source": [
        "X_train, X_test, y_train, y_test = train_test_split(df_cut, df[\"kinds\"], test_size=0.2, shuffle=True)"
      ],
      "metadata": {
        "id": "wWvI0nQc5fPy"
      },
      "execution_count": 76,
      "outputs": []
    },
    {
      "cell_type": "code",
      "source": [
        "\n",
        "model = RandomForestClassifier(n_estimators=10)# n_estimators - кількість дерев"
      ],
      "metadata": {
        "id": "OsiCry1f5nwY"
      },
      "execution_count": 77,
      "outputs": []
    },
    {
      "cell_type": "code",
      "source": [
        "model.fit(X_train, y_train)"
      ],
      "metadata": {
        "colab": {
          "base_uri": "https://localhost:8080/",
          "height": 75
        },
        "id": "57ZFE4gz8Gis",
        "outputId": "88457dfe-27e4-48ca-a3a7-124abf5e4fc7"
      },
      "execution_count": 78,
      "outputs": [
        {
          "output_type": "execute_result",
          "data": {
            "text/plain": [
              "RandomForestClassifier(n_estimators=10)"
            ],
            "text/html": [
              "<style>#sk-container-id-2 {color: black;background-color: white;}#sk-container-id-2 pre{padding: 0;}#sk-container-id-2 div.sk-toggleable {background-color: white;}#sk-container-id-2 label.sk-toggleable__label {cursor: pointer;display: block;width: 100%;margin-bottom: 0;padding: 0.3em;box-sizing: border-box;text-align: center;}#sk-container-id-2 label.sk-toggleable__label-arrow:before {content: \"▸\";float: left;margin-right: 0.25em;color: #696969;}#sk-container-id-2 label.sk-toggleable__label-arrow:hover:before {color: black;}#sk-container-id-2 div.sk-estimator:hover label.sk-toggleable__label-arrow:before {color: black;}#sk-container-id-2 div.sk-toggleable__content {max-height: 0;max-width: 0;overflow: hidden;text-align: left;background-color: #f0f8ff;}#sk-container-id-2 div.sk-toggleable__content pre {margin: 0.2em;color: black;border-radius: 0.25em;background-color: #f0f8ff;}#sk-container-id-2 input.sk-toggleable__control:checked~div.sk-toggleable__content {max-height: 200px;max-width: 100%;overflow: auto;}#sk-container-id-2 input.sk-toggleable__control:checked~label.sk-toggleable__label-arrow:before {content: \"▾\";}#sk-container-id-2 div.sk-estimator input.sk-toggleable__control:checked~label.sk-toggleable__label {background-color: #d4ebff;}#sk-container-id-2 div.sk-label input.sk-toggleable__control:checked~label.sk-toggleable__label {background-color: #d4ebff;}#sk-container-id-2 input.sk-hidden--visually {border: 0;clip: rect(1px 1px 1px 1px);clip: rect(1px, 1px, 1px, 1px);height: 1px;margin: -1px;overflow: hidden;padding: 0;position: absolute;width: 1px;}#sk-container-id-2 div.sk-estimator {font-family: monospace;background-color: #f0f8ff;border: 1px dotted black;border-radius: 0.25em;box-sizing: border-box;margin-bottom: 0.5em;}#sk-container-id-2 div.sk-estimator:hover {background-color: #d4ebff;}#sk-container-id-2 div.sk-parallel-item::after {content: \"\";width: 100%;border-bottom: 1px solid gray;flex-grow: 1;}#sk-container-id-2 div.sk-label:hover label.sk-toggleable__label {background-color: #d4ebff;}#sk-container-id-2 div.sk-serial::before {content: \"\";position: absolute;border-left: 1px solid gray;box-sizing: border-box;top: 0;bottom: 0;left: 50%;z-index: 0;}#sk-container-id-2 div.sk-serial {display: flex;flex-direction: column;align-items: center;background-color: white;padding-right: 0.2em;padding-left: 0.2em;position: relative;}#sk-container-id-2 div.sk-item {position: relative;z-index: 1;}#sk-container-id-2 div.sk-parallel {display: flex;align-items: stretch;justify-content: center;background-color: white;position: relative;}#sk-container-id-2 div.sk-item::before, #sk-container-id-2 div.sk-parallel-item::before {content: \"\";position: absolute;border-left: 1px solid gray;box-sizing: border-box;top: 0;bottom: 0;left: 50%;z-index: -1;}#sk-container-id-2 div.sk-parallel-item {display: flex;flex-direction: column;z-index: 1;position: relative;background-color: white;}#sk-container-id-2 div.sk-parallel-item:first-child::after {align-self: flex-end;width: 50%;}#sk-container-id-2 div.sk-parallel-item:last-child::after {align-self: flex-start;width: 50%;}#sk-container-id-2 div.sk-parallel-item:only-child::after {width: 0;}#sk-container-id-2 div.sk-dashed-wrapped {border: 1px dashed gray;margin: 0 0.4em 0.5em 0.4em;box-sizing: border-box;padding-bottom: 0.4em;background-color: white;}#sk-container-id-2 div.sk-label label {font-family: monospace;font-weight: bold;display: inline-block;line-height: 1.2em;}#sk-container-id-2 div.sk-label-container {text-align: center;}#sk-container-id-2 div.sk-container {/* jupyter's `normalize.less` sets `[hidden] { display: none; }` but bootstrap.min.css set `[hidden] { display: none !important; }` so we also need the `!important` here to be able to override the default hidden behavior on the sphinx rendered scikit-learn.org. See: https://github.com/scikit-learn/scikit-learn/issues/21755 */display: inline-block !important;position: relative;}#sk-container-id-2 div.sk-text-repr-fallback {display: none;}</style><div id=\"sk-container-id-2\" class=\"sk-top-container\"><div class=\"sk-text-repr-fallback\"><pre>RandomForestClassifier(n_estimators=10)</pre><b>In a Jupyter environment, please rerun this cell to show the HTML representation or trust the notebook. <br />On GitHub, the HTML representation is unable to render, please try loading this page with nbviewer.org.</b></div><div class=\"sk-container\" hidden><div class=\"sk-item\"><div class=\"sk-estimator sk-toggleable\"><input class=\"sk-toggleable__control sk-hidden--visually\" id=\"sk-estimator-id-2\" type=\"checkbox\" checked><label for=\"sk-estimator-id-2\" class=\"sk-toggleable__label sk-toggleable__label-arrow\">RandomForestClassifier</label><div class=\"sk-toggleable__content\"><pre>RandomForestClassifier(n_estimators=10)</pre></div></div></div></div></div>"
            ]
          },
          "metadata": {},
          "execution_count": 78
        }
      ]
    },
    {
      "cell_type": "code",
      "source": [
        "f1_score_train_micro = f1_score(y_train, model.predict(X_train), average=\"micro\")\n",
        "f1_score_test_micro = f1_score(y_test, model.predict(X_test), average=\"micro\")\n",
        "print(f'{f1_score_train_micro = }, {f1_score_test_micro = }')"
      ],
      "metadata": {
        "colab": {
          "base_uri": "https://localhost:8080/"
        },
        "id": "agcckl-68L9S",
        "outputId": "e2c99b4f-0831-47e9-f9b2-744608f5aed5"
      },
      "execution_count": 79,
      "outputs": [
        {
          "output_type": "stream",
          "name": "stdout",
          "text": [
            "f1_score_train_micro = 1.0, f1_score_test_micro = 0.9992266047950503\n"
          ]
        }
      ]
    },
    {
      "cell_type": "code",
      "source": [
        "f1_score_train_macro = f1_score(y_train, model.predict(X_train), average=\"macro\")\n",
        "f1_score_test_macro = f1_score(y_test, model.predict(X_test), average=\"macro\")\n",
        "print(f'{f1_score_train_macro = }, {f1_score_test_macro = }')"
      ],
      "metadata": {
        "colab": {
          "base_uri": "https://localhost:8080/"
        },
        "id": "8FrmdvAu_V26",
        "outputId": "b3fb9473-a14b-4375-e748-59d5a2a207b6"
      },
      "execution_count": 80,
      "outputs": [
        {
          "output_type": "stream",
          "name": "stdout",
          "text": [
            "f1_score_train_macro = 1.0, f1_score_test_macro = 0.994355753534571\n"
          ]
        }
      ]
    },
    {
      "cell_type": "code",
      "source": [
        "f1_score_train_weighted = f1_score(y_train, model.predict(X_train), average=\"weighted\")\n",
        "f1_score_test_weighted = f1_score(y_test, model.predict(X_test), average=\"weighted\")\n",
        "print(f'{f1_score_train_weighted = }, {f1_score_test_weighted = }')"
      ],
      "metadata": {
        "colab": {
          "base_uri": "https://localhost:8080/"
        },
        "id": "JjlswL28_Wdl",
        "outputId": "bd9503f0-d0c9-4e2f-d75f-59ecef28d459"
      },
      "execution_count": 81,
      "outputs": [
        {
          "output_type": "stream",
          "name": "stdout",
          "text": [
            "f1_score_train_weighted = 1.0, f1_score_test_weighted = 0.9992343295458731\n"
          ]
        }
      ]
    },
    {
      "cell_type": "code",
      "source": [],
      "metadata": {
        "id": "tsNtHktjZkEO"
      },
      "execution_count": 81,
      "outputs": []
    },
    {
      "cell_type": "code",
      "source": [
        "X_train, X_valid, y_train, y_valid = train_test_split(df_cut, df[\"kinds\"], test_size=0.2, shuffle=True)"
      ],
      "metadata": {
        "id": "n544E62vBQVF"
      },
      "execution_count": 82,
      "outputs": []
    },
    {
      "cell_type": "markdown",
      "source": [
        "**SVC rbf**"
      ],
      "metadata": {
        "id": "HghBmmpiV-4A"
      }
    },
    {
      "cell_type": "code",
      "source": [
        "\n",
        "svc_rbf = SVC(kernel='rbf', C=1, probability=True).fit(X_train, y_train)"
      ],
      "metadata": {
        "id": "8x6WR2wVWBi2"
      },
      "execution_count": 83,
      "outputs": []
    },
    {
      "cell_type": "code",
      "source": [
        "y_valid_pred__rbf = svc_rbf.predict(X_valid)\n",
        "y_train_pred__rbf = svc_rbf.predict(X_train)\n"
      ],
      "metadata": {
        "id": "TXMkWS_mvJXW"
      },
      "execution_count": 84,
      "outputs": []
    },
    {
      "cell_type": "code",
      "source": [
        "ac_train_rbf = accuracy_score(y_train, y_train_pred__rbf >= 0.5)\n",
        "ac_valid_rbf = accuracy_score(y_valid, y_valid_pred__rbf >= 0.5)"
      ],
      "metadata": {
        "id": "khX9dD0uv99h"
      },
      "execution_count": 85,
      "outputs": []
    },
    {
      "cell_type": "code",
      "source": [
        "f1_sc_train_rbf = f1_score(y_train, y_train_pred__rbf , average=\"macro\")\n",
        "f1_sc_valid_rbf = f1_score(y_valid, y_valid_pred__rbf, average=\"macro\")"
      ],
      "metadata": {
        "id": "cgaYKIftwBva"
      },
      "execution_count": 86,
      "outputs": []
    },
    {
      "cell_type": "code",
      "source": [
        "y_valid_pred_rbf = svc_rbf.predict_proba(X_valid)\n",
        "y_train_pred_rbf = svc_rbf.predict_proba(X_train)"
      ],
      "metadata": {
        "id": "BNE4Yr9mS9Oh"
      },
      "execution_count": 87,
      "outputs": []
    },
    {
      "cell_type": "markdown",
      "source": [
        "**SVC linear**"
      ],
      "metadata": {
        "id": "_KNtgMq1V5Ai"
      }
    },
    {
      "cell_type": "code",
      "source": [
        "svc_linear = SVC(kernel='linear', C=2, probability=True).fit(X_train, y_train)"
      ],
      "metadata": {
        "id": "BuxOGz5zWKrP"
      },
      "execution_count": 88,
      "outputs": []
    },
    {
      "cell_type": "code",
      "source": [
        "y_valid_pred_linear = svc_linear.predict_proba(X_valid)[:, 1]\n",
        "y_train_pred_linear = svc_linear.predict_proba(X_train)[:, 1]"
      ],
      "metadata": {
        "id": "JlIVJxYQvRIR"
      },
      "execution_count": 89,
      "outputs": []
    },
    {
      "cell_type": "code",
      "source": [
        "ac_train_linear = accuracy_score(y_train, y_train_pred_linear >= 0.5)\n",
        "ac_valid_linear = accuracy_score(y_valid, y_valid_pred_linear >= 0.5)"
      ],
      "metadata": {
        "id": "Tzj94EFDw0l0"
      },
      "execution_count": 90,
      "outputs": []
    },
    {
      "cell_type": "code",
      "source": [
        "f1_sc_train_linear = f1_score(y_train, y_train_pred_linear >= 0.5, average=\"macro\")\n",
        "f1_sc_valid_linear = f1_score(y_valid, y_valid_pred_linear >= 0.5, average=\"macro\")"
      ],
      "metadata": {
        "id": "_Xd0nSoyw2Z8"
      },
      "execution_count": 91,
      "outputs": []
    },
    {
      "cell_type": "markdown",
      "source": [
        "**SVC poly**"
      ],
      "metadata": {
        "id": "m2xvrcmVYNjy"
      }
    },
    {
      "cell_type": "code",
      "source": [
        "svc_poly = SVC(kernel='poly', degree=2, C=100, probability=True).fit(X_train, y_train)"
      ],
      "metadata": {
        "id": "SWxUDZjkZHE9"
      },
      "execution_count": 102,
      "outputs": []
    },
    {
      "cell_type": "code",
      "source": [
        "y_valid_pred_poly = svc_poly.predict_proba(X_valid)[:, 1]\n",
        "y_train_pred_poly = svc_poly.predict_proba(X_train)[:, 1]"
      ],
      "metadata": {
        "id": "UdCNZjD2vP3R"
      },
      "execution_count": 103,
      "outputs": []
    },
    {
      "cell_type": "code",
      "source": [
        "ac_train_poly = accuracy_score(y_train, y_train_pred_poly>0.5)\n",
        "ac_valid_poly = accuracy_score(y_valid, y_valid_pred_poly>0.5)"
      ],
      "metadata": {
        "id": "BGrKaFAuxP2q"
      },
      "execution_count": 104,
      "outputs": []
    },
    {
      "cell_type": "code",
      "source": [
        "f1_sc_train_poly = f1_score(y_train, y_train_pred_poly >= 0.5, average=\"macro\")\n",
        "f1_sc_valid_poly = f1_score(y_valid, y_valid_pred_poly >= 0.5, average=\"macro\")"
      ],
      "metadata": {
        "id": "bA0_bEObxQfS"
      },
      "execution_count": 105,
      "outputs": []
    },
    {
      "cell_type": "code",
      "source": [
        "print(f'{ac_train_rbf = }, {ac_valid_rbf = }')\n",
        "print(f'{f1_sc_train_rbf = }, {f1_sc_valid_rbf = }')\n",
        "\n",
        "print(f'{ac_train_linear = }, {ac_valid_linear = }')\n",
        "print(f'{f1_sc_train_linear = }, {f1_sc_valid_linear = }')\n",
        "\n",
        "print(f'{ac_train_poly = }, {ac_valid_poly = }')\n",
        "print(f'{f1_sc_train_poly = }, {f1_sc_valid_poly = }')\n"
      ],
      "metadata": {
        "colab": {
          "base_uri": "https://localhost:8080/"
        },
        "id": "ywZMaw_rxpdq",
        "outputId": "fa36abf3-0f1d-42f5-89d3-15a6f0c26384"
      },
      "execution_count": 106,
      "outputs": [
        {
          "output_type": "stream",
          "name": "stdout",
          "text": [
            "ac_train_rbf = 0.16270071580576514, ac_valid_rbf = 0.1531322505800464\n",
            "f1_sc_train_rbf = 0.762124275290761, f1_sc_valid_rbf = 0.8012495999158433\n",
            "ac_train_linear = 0.0, ac_valid_linear = 0.0\n",
            "f1_sc_train_linear = 0.0, f1_sc_valid_linear = 0.0\n",
            "ac_train_poly = 0.0, ac_valid_poly = 0.0\n",
            "f1_sc_train_poly = 0.0, f1_sc_valid_poly = 0.0\n"
          ]
        }
      ]
    },
    {
      "cell_type": "markdown",
      "source": [
        "# підбір параметрів"
      ],
      "metadata": {
        "id": "_-rMfgAaZ0u9"
      }
    },
    {
      "cell_type": "code",
      "source": [
        "svc_poly = SVC(kernel='poly', probability=True).fit(X_train, y_train)\n",
        "params = {\n",
        "    'C': [0.01, 0.1, 1., 10., 100.],\n",
        "    'degree': [1, 2, 3, 4, 5]\n",
        "}\n",
        "# {'C': 100.0, 'degree': 3}"
      ],
      "metadata": {
        "id": "b3FzPj-4BY8o"
      },
      "execution_count": 97,
      "outputs": []
    },
    {
      "cell_type": "code",
      "source": [
        "model = GridSearchCV(svc_poly, params, cv=5, verbose=True).fit(X_train, y_train)"
      ],
      "metadata": {
        "id": "vP7NFvK8BV55",
        "colab": {
          "base_uri": "https://localhost:8080/"
        },
        "outputId": "27b615fc-0b4f-4325-e77d-1d944da8adc0"
      },
      "execution_count": 98,
      "outputs": [
        {
          "output_type": "stream",
          "name": "stdout",
          "text": [
            "Fitting 5 folds for each of 25 candidates, totalling 125 fits\n"
          ]
        }
      ]
    },
    {
      "cell_type": "code",
      "source": [
        "model.best_params_, model.best_score_"
      ],
      "metadata": {
        "id": "ODwfGvLHCCDd",
        "colab": {
          "base_uri": "https://localhost:8080/"
        },
        "outputId": "c6ccbe14-00f4-4c85-8666-e17fdac7f6b2"
      },
      "execution_count": 99,
      "outputs": [
        {
          "output_type": "execute_result",
          "data": {
            "text/plain": [
              "({'C': 100.0, 'degree': 2}, 0.9978714042028907)"
            ]
          },
          "metadata": {},
          "execution_count": 99
        }
      ]
    },
    {
      "cell_type": "code",
      "source": [
        "best_model = model.best_estimator_\n",
        "best_model"
      ],
      "metadata": {
        "id": "iDJo7FyiCO1k",
        "colab": {
          "base_uri": "https://localhost:8080/",
          "height": 75
        },
        "outputId": "38df1f74-15b9-4543-ce0e-9f52fc53a7bd"
      },
      "execution_count": 100,
      "outputs": [
        {
          "output_type": "execute_result",
          "data": {
            "text/plain": [
              "SVC(C=100.0, degree=2, kernel='poly', probability=True)"
            ],
            "text/html": [
              "<style>#sk-container-id-3 {color: black;background-color: white;}#sk-container-id-3 pre{padding: 0;}#sk-container-id-3 div.sk-toggleable {background-color: white;}#sk-container-id-3 label.sk-toggleable__label {cursor: pointer;display: block;width: 100%;margin-bottom: 0;padding: 0.3em;box-sizing: border-box;text-align: center;}#sk-container-id-3 label.sk-toggleable__label-arrow:before {content: \"▸\";float: left;margin-right: 0.25em;color: #696969;}#sk-container-id-3 label.sk-toggleable__label-arrow:hover:before {color: black;}#sk-container-id-3 div.sk-estimator:hover label.sk-toggleable__label-arrow:before {color: black;}#sk-container-id-3 div.sk-toggleable__content {max-height: 0;max-width: 0;overflow: hidden;text-align: left;background-color: #f0f8ff;}#sk-container-id-3 div.sk-toggleable__content pre {margin: 0.2em;color: black;border-radius: 0.25em;background-color: #f0f8ff;}#sk-container-id-3 input.sk-toggleable__control:checked~div.sk-toggleable__content {max-height: 200px;max-width: 100%;overflow: auto;}#sk-container-id-3 input.sk-toggleable__control:checked~label.sk-toggleable__label-arrow:before {content: \"▾\";}#sk-container-id-3 div.sk-estimator input.sk-toggleable__control:checked~label.sk-toggleable__label {background-color: #d4ebff;}#sk-container-id-3 div.sk-label input.sk-toggleable__control:checked~label.sk-toggleable__label {background-color: #d4ebff;}#sk-container-id-3 input.sk-hidden--visually {border: 0;clip: rect(1px 1px 1px 1px);clip: rect(1px, 1px, 1px, 1px);height: 1px;margin: -1px;overflow: hidden;padding: 0;position: absolute;width: 1px;}#sk-container-id-3 div.sk-estimator {font-family: monospace;background-color: #f0f8ff;border: 1px dotted black;border-radius: 0.25em;box-sizing: border-box;margin-bottom: 0.5em;}#sk-container-id-3 div.sk-estimator:hover {background-color: #d4ebff;}#sk-container-id-3 div.sk-parallel-item::after {content: \"\";width: 100%;border-bottom: 1px solid gray;flex-grow: 1;}#sk-container-id-3 div.sk-label:hover label.sk-toggleable__label {background-color: #d4ebff;}#sk-container-id-3 div.sk-serial::before {content: \"\";position: absolute;border-left: 1px solid gray;box-sizing: border-box;top: 0;bottom: 0;left: 50%;z-index: 0;}#sk-container-id-3 div.sk-serial {display: flex;flex-direction: column;align-items: center;background-color: white;padding-right: 0.2em;padding-left: 0.2em;position: relative;}#sk-container-id-3 div.sk-item {position: relative;z-index: 1;}#sk-container-id-3 div.sk-parallel {display: flex;align-items: stretch;justify-content: center;background-color: white;position: relative;}#sk-container-id-3 div.sk-item::before, #sk-container-id-3 div.sk-parallel-item::before {content: \"\";position: absolute;border-left: 1px solid gray;box-sizing: border-box;top: 0;bottom: 0;left: 50%;z-index: -1;}#sk-container-id-3 div.sk-parallel-item {display: flex;flex-direction: column;z-index: 1;position: relative;background-color: white;}#sk-container-id-3 div.sk-parallel-item:first-child::after {align-self: flex-end;width: 50%;}#sk-container-id-3 div.sk-parallel-item:last-child::after {align-self: flex-start;width: 50%;}#sk-container-id-3 div.sk-parallel-item:only-child::after {width: 0;}#sk-container-id-3 div.sk-dashed-wrapped {border: 1px dashed gray;margin: 0 0.4em 0.5em 0.4em;box-sizing: border-box;padding-bottom: 0.4em;background-color: white;}#sk-container-id-3 div.sk-label label {font-family: monospace;font-weight: bold;display: inline-block;line-height: 1.2em;}#sk-container-id-3 div.sk-label-container {text-align: center;}#sk-container-id-3 div.sk-container {/* jupyter's `normalize.less` sets `[hidden] { display: none; }` but bootstrap.min.css set `[hidden] { display: none !important; }` so we also need the `!important` here to be able to override the default hidden behavior on the sphinx rendered scikit-learn.org. See: https://github.com/scikit-learn/scikit-learn/issues/21755 */display: inline-block !important;position: relative;}#sk-container-id-3 div.sk-text-repr-fallback {display: none;}</style><div id=\"sk-container-id-3\" class=\"sk-top-container\"><div class=\"sk-text-repr-fallback\"><pre>SVC(C=100.0, degree=2, kernel=&#x27;poly&#x27;, probability=True)</pre><b>In a Jupyter environment, please rerun this cell to show the HTML representation or trust the notebook. <br />On GitHub, the HTML representation is unable to render, please try loading this page with nbviewer.org.</b></div><div class=\"sk-container\" hidden><div class=\"sk-item\"><div class=\"sk-estimator sk-toggleable\"><input class=\"sk-toggleable__control sk-hidden--visually\" id=\"sk-estimator-id-3\" type=\"checkbox\" checked><label for=\"sk-estimator-id-3\" class=\"sk-toggleable__label sk-toggleable__label-arrow\">SVC</label><div class=\"sk-toggleable__content\"><pre>SVC(C=100.0, degree=2, kernel=&#x27;poly&#x27;, probability=True)</pre></div></div></div></div></div>"
            ]
          },
          "metadata": {},
          "execution_count": 100
        }
      ]
    }
  ]
}