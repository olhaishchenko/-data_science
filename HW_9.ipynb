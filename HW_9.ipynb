{
  "nbformat": 4,
  "nbformat_minor": 0,
  "metadata": {
    "colab": {
      "provenance": [],
      "gpuType": "T4",
      "authorship_tag": "ABX9TyNYM0fJ1GOO3ldzj4adc1yz",
      "include_colab_link": true
    },
    "kernelspec": {
      "name": "python3",
      "display_name": "Python 3"
    },
    "language_info": {
      "name": "python"
    },
    "accelerator": "GPU"
  },
  "cells": [
    {
      "cell_type": "markdown",
      "metadata": {
        "id": "view-in-github",
        "colab_type": "text"
      },
      "source": [
        "<a href=\"https://colab.research.google.com/github/olhaishchenko/-data_science/blob/master/HW_9.ipynb\" target=\"_parent\"><img src=\"https://colab.research.google.com/assets/colab-badge.svg\" alt=\"Open In Colab\"/></a>"
      ]
    },
    {
      "cell_type": "code",
      "execution_count": 68,
      "metadata": {
        "id": "yrvAlZ9dZ0If"
      },
      "outputs": [],
      "source": [
        "import math\n",
        "\n",
        "import os\n",
        "import random\n",
        "\n",
        "import numpy as np\n",
        "import pandas as pd\n",
        "\n",
        "import matplotlib.pyplot as plt\n",
        "import seaborn as sn\n",
        "import tensorflow as tf\n",
        "from sklearn.model_selection import train_test_split\n",
        "\n",
        "from tensorflow.keras.callbacks import EarlyStopping, ModelCheckpoint\n",
        "from tensorflow.keras.layers import Dense, Dropout\n",
        "from tensorflow.keras.models import Sequential, Model\n"
      ]
    },
    {
      "cell_type": "code",
      "source": [
        "from keras.datasets import fashion_mnist\n",
        "\n",
        "# Загружаем датасет\n",
        "(x_train, y_train), (x_test, y_test) = fashion_mnist.load_data()"
      ],
      "metadata": {
        "id": "2m9uiRUVaOVN"
      },
      "execution_count": 69,
      "outputs": []
    },
    {
      "cell_type": "code",
      "source": [
        "num_classes = 10\n",
        "num_features = 28 * 28\n",
        "\n",
        "lr = 0.001\n",
        "n_epochs = 10\n",
        "batch_size = 256"
      ],
      "metadata": {
        "id": "bPJj_q1hZ63Z"
      },
      "execution_count": 70,
      "outputs": []
    },
    {
      "cell_type": "code",
      "source": [
        "x_train, x_test = np.array(x_train, np.float32), np.array(x_test, np.float32)\n",
        "x_train, x_test = x_train.reshape([-1, num_features]), x_test.reshape([-1, num_features])\n",
        "x_train, x_test = x_train / 255., x_test / 255."
      ],
      "metadata": {
        "id": "RpbcR3o-HJZT"
      },
      "execution_count": 71,
      "outputs": []
    },
    {
      "cell_type": "code",
      "source": [
        "\n",
        "label = \\\n",
        "{\n",
        "    0:\"T-shirt/top\",\n",
        "    1:\"Trouser\",\n",
        "    2:\"Pullover\",\n",
        "    3:\"Dress\",\n",
        "    4:\"Coat\",\n",
        "    5:\"Sandal\",\n",
        "    6:\"Shirt\",\n",
        "    7:\"Sneaker\",\n",
        "    8:\"Bag\",\n",
        "    9:\"Ankle boot\",\n",
        "}\n"
      ],
      "metadata": {
        "id": "tyqoM8XUabxj"
      },
      "execution_count": 72,
      "outputs": []
    },
    {
      "cell_type": "code",
      "source": [
        "plt.imshow(x_train[0].reshape(28, 28), cmap=\"gray\")\n",
        "plt.title(label[y_train[0]])"
      ],
      "metadata": {
        "colab": {
          "base_uri": "https://localhost:8080/",
          "height": 470
        },
        "id": "H5JORy-0cxSP",
        "outputId": "30deabe2-e413-4473-fc2a-fb35b0c3eb99"
      },
      "execution_count": 73,
      "outputs": [
        {
          "output_type": "execute_result",
          "data": {
            "text/plain": [
              "Text(0.5, 1.0, 'Ankle boot')"
            ]
          },
          "metadata": {},
          "execution_count": 73
        },
        {
          "output_type": "display_data",
          "data": {
            "text/plain": [
              "<Figure size 640x480 with 1 Axes>"
            ],
            "image/png": "[encoded data removed]"
          },
          "metadata": {}
        }
      ]
    },
    {
      "cell_type": "code",
      "source": [
        "class Dataset(tf.keras.utils.Sequence):\n",
        "    def __init__(self, x, y, shuffle=True, batch_size=256):\n",
        "        self.x = x\n",
        "        self.y = y\n",
        "        self.shuffle = shuffle\n",
        "        self.indexes = np.arange(len(self.x))\n",
        "        self.batch_size = batch_size\n",
        "\n",
        "        if shuffle:\n",
        "            self.on_epoch_end()\n",
        "\n",
        "    def __len__(self):\n",
        "        return len(self.x) // self.batch_size\n",
        "        # return math.ceil(len(self.x) / self.batch_size) # округлюємо результат вгору\n",
        "\n",
        "    def __getitem__(self, n):\n",
        "        indexes = self.indexes[n * self.batch_size : (n + 1) * self.batch_size]\n",
        "        batch_x = [self.x[i] for i in indexes]\n",
        "        batch_y = [tf.keras.utils.to_categorical(self.y[i], num_classes) for i in indexes]\n",
        "\n",
        "        return np.array(batch_x), np.array(batch_y)\n",
        "\n",
        "    def on_epoch_end(self):\n",
        "        if self.shuffle:\n",
        "            np.random.shuffle(self.indexes)"
      ],
      "metadata": {
        "id": "Z7d4jOkQgMZp"
      },
      "execution_count": 74,
      "outputs": []
    },
    {
      "cell_type": "code",
      "source": [
        "x_train_part, x_valid, y_train_part, y_valid = train_test_split(x_train, y_train, test_size=0.2, shuffle=True)"
      ],
      "metadata": {
        "id": "puqncIBtJ5RR"
      },
      "execution_count": 75,
      "outputs": []
    },
    {
      "cell_type": "code",
      "source": [
        "x_train_part.shape, y_train_part.shape, x_valid.shape, x_test.shape"
      ],
      "metadata": {
        "colab": {
          "base_uri": "https://localhost:8080/"
        },
        "id": "xkIXTLyvh-AN",
        "outputId": "e52c3b6f-3634-4f8f-a560-61d702f819b2"
      },
      "execution_count": 76,
      "outputs": [
        {
          "output_type": "execute_result",
          "data": {
            "text/plain": [
              "((48000, 784), (48000,), (12000, 784), (10000, 784))"
            ]
          },
          "metadata": {},
          "execution_count": 76
        }
      ]
    },
    {
      "cell_type": "code",
      "source": [
        "train_dataset = Dataset(x_train, y_train, shuffle=True, batch_size=batch_size)\n",
        "valid_dataset = Dataset(x_valid, y_valid, shuffle=False, batch_size=batch_size)"
      ],
      "metadata": {
        "id": "cdscGej2idd2"
      },
      "execution_count": 87,
      "outputs": []
    },
    {
      "cell_type": "code",
      "source": [
        "from tensorflow.keras.initializers import RandomNormal\n",
        "\n",
        "model = Sequential(\n",
        "    [\n",
        "        Dense(1024, activation=\"relu\", input_shape=(num_features,)),\n",
        "        Dense(1024, activation=\"relu\"),\n",
        "        Dense(1024, activation=\"relu\"),\n",
        "        Dense(10, activation=\"softmax\"),\n",
        "    ]\n",
        ")"
      ],
      "metadata": {
        "id": "MRxw_1iti430"
      },
      "execution_count": 88,
      "outputs": []
    },
    {
      "cell_type": "code",
      "source": [
        "from tensorflow.keras.optimizers import Adam, SGD\n",
        "from tensorflow.keras.metrics import CategoricalAccuracy\n",
        "\n",
        "model.compile(\n",
        "    optimizer=Adam(learning_rate=lr),\n",
        "    loss=\"categorical_crossentropy\",\n",
        "    metrics=[CategoricalAccuracy()],\n",
        ")"
      ],
      "metadata": {
        "id": "Txn_vRowi7zu"
      },
      "execution_count": 89,
      "outputs": []
    },
    {
      "cell_type": "code",
      "source": [
        "callback_early_stopping = EarlyStopping(\n",
        "    monitor=\"val_loss\",\n",
        "    patience=2,\n",
        "    verbose=1\n",
        ")\n",
        "\n",
        "\n",
        "callback_save = ModelCheckpoint(\n",
        "    \"best.hdf5\",\n",
        "    monitor=\"val_loss\",\n",
        "    save_best_only=True,\n",
        "    verbose=1\n",
        ")"
      ],
      "metadata": {
        "id": "siccqkE5OWzd"
      },
      "execution_count": 90,
      "outputs": []
    },
    {
      "cell_type": "code",
      "source": [
        "history = model.fit(\n",
        "    train_dataset,\n",
        "    validation_data=valid_dataset,\n",
        "    epochs=20,\n",
        "    verbose=1,\n",
        "    callbacks=[callback_early_stopping, callback_save]\n",
        ")"
      ],
      "metadata": {
        "colab": {
          "base_uri": "https://localhost:8080/"
        },
        "id": "dYmBUWkCjBJF",
        "outputId": "5ccec150-ca1e-41d2-9bd7-25d5bb48647b"
      },
      "execution_count": 91,
      "outputs": [
        {
          "output_type": "stream",
          "name": "stdout",
          "text": [
            "Epoch 1/20\n",
            "233/234 [============================>.] - ETA: 0s - loss: 0.4871 - categorical_accuracy: 0.8233\n",
            "Epoch 1: val_loss improved from inf to 0.36447, saving model to best.hdf5\n",
            "234/234 [==============================] - 4s 10ms/step - loss: 0.4865 - categorical_accuracy: 0.8235 - val_loss: 0.3645 - val_categorical_accuracy: 0.8659\n",
            "Epoch 2/20\n",
            "232/234 [============================>.] - ETA: 0s - loss: 0.3450 - categorical_accuracy: 0.8730\n",
            "Epoch 2: val_loss improved from 0.36447 to 0.31362, saving model to best.hdf5\n",
            "234/234 [==============================] - 2s 9ms/step - loss: 0.3449 - categorical_accuracy: 0.8730 - val_loss: 0.3136 - val_categorical_accuracy: 0.8791\n",
            "Epoch 3/20\n",
            "234/234 [==============================] - ETA: 0s - loss: 0.3137 - categorical_accuracy: 0.8829\n",
            "Epoch 3: val_loss improved from 0.31362 to 0.29959, saving model to best.hdf5\n",
            "234/234 [==============================] - 2s 9ms/step - loss: 0.3137 - categorical_accuracy: 0.8829 - val_loss: 0.2996 - val_categorical_accuracy: 0.8871\n",
            "Epoch 4/20\n",
            "228/234 [============================>.] - ETA: 0s - loss: 0.2817 - categorical_accuracy: 0.8946\n",
            "Epoch 4: val_loss improved from 0.29959 to 0.26681, saving model to best.hdf5\n",
            "234/234 [==============================] - 2s 9ms/step - loss: 0.2814 - categorical_accuracy: 0.8947 - val_loss: 0.2668 - val_categorical_accuracy: 0.8972\n",
            "Epoch 5/20\n",
            "232/234 [============================>.] - ETA: 0s - loss: 0.2712 - categorical_accuracy: 0.8996\n",
            "Epoch 5: val_loss improved from 0.26681 to 0.25166, saving model to best.hdf5\n",
            "234/234 [==============================] - 2s 9ms/step - loss: 0.2709 - categorical_accuracy: 0.8997 - val_loss: 0.2517 - val_categorical_accuracy: 0.9053\n",
            "Epoch 6/20\n",
            "229/234 [============================>.] - ETA: 0s - loss: 0.2504 - categorical_accuracy: 0.9057\n",
            "Epoch 6: val_loss improved from 0.25166 to 0.24312, saving model to best.hdf5\n",
            "234/234 [==============================] - 3s 12ms/step - loss: 0.2502 - categorical_accuracy: 0.9059 - val_loss: 0.2431 - val_categorical_accuracy: 0.9085\n",
            "Epoch 7/20\n",
            "234/234 [==============================] - ETA: 0s - loss: 0.2407 - categorical_accuracy: 0.9091\n",
            "Epoch 7: val_loss did not improve from 0.24312\n",
            "234/234 [==============================] - 2s 10ms/step - loss: 0.2407 - categorical_accuracy: 0.9091 - val_loss: 0.2488 - val_categorical_accuracy: 0.9045\n",
            "Epoch 8/20\n",
            "231/234 [============================>.] - ETA: 0s - loss: 0.2313 - categorical_accuracy: 0.9116\n",
            "Epoch 8: val_loss improved from 0.24312 to 0.21625, saving model to best.hdf5\n",
            "234/234 [==============================] - 2s 9ms/step - loss: 0.2314 - categorical_accuracy: 0.9115 - val_loss: 0.2162 - val_categorical_accuracy: 0.9203\n",
            "Epoch 9/20\n",
            "227/234 [============================>.] - ETA: 0s - loss: 0.2179 - categorical_accuracy: 0.9161\n",
            "Epoch 9: val_loss improved from 0.21625 to 0.19999, saving model to best.hdf5\n",
            "234/234 [==============================] - 2s 8ms/step - loss: 0.2176 - categorical_accuracy: 0.9162 - val_loss: 0.2000 - val_categorical_accuracy: 0.9234\n",
            "Epoch 10/20\n",
            "232/234 [============================>.] - ETA: 0s - loss: 0.2101 - categorical_accuracy: 0.9203\n",
            "Epoch 10: val_loss improved from 0.19999 to 0.19659, saving model to best.hdf5\n",
            "234/234 [==============================] - 2s 10ms/step - loss: 0.2104 - categorical_accuracy: 0.9202 - val_loss: 0.1966 - val_categorical_accuracy: 0.9283\n",
            "Epoch 11/20\n",
            "227/234 [============================>.] - ETA: 0s - loss: 0.2027 - categorical_accuracy: 0.9225\n",
            "Epoch 11: val_loss improved from 0.19659 to 0.17968, saving model to best.hdf5\n",
            "234/234 [==============================] - 3s 11ms/step - loss: 0.2022 - categorical_accuracy: 0.9228 - val_loss: 0.1797 - val_categorical_accuracy: 0.9328\n",
            "Epoch 12/20\n",
            "231/234 [============================>.] - ETA: 0s - loss: 0.1881 - categorical_accuracy: 0.9276\n",
            "Epoch 12: val_loss did not improve from 0.17968\n",
            "234/234 [==============================] - 2s 8ms/step - loss: 0.1884 - categorical_accuracy: 0.9274 - val_loss: 0.2033 - val_categorical_accuracy: 0.9217\n",
            "Epoch 13/20\n",
            "233/234 [============================>.] - ETA: 0s - loss: 0.1806 - categorical_accuracy: 0.9308\n",
            "Epoch 13: val_loss improved from 0.17968 to 0.16973, saving model to best.hdf5\n",
            "234/234 [==============================] - 2s 10ms/step - loss: 0.1805 - categorical_accuracy: 0.9308 - val_loss: 0.1697 - val_categorical_accuracy: 0.9368\n",
            "Epoch 14/20\n",
            "227/234 [============================>.] - ETA: 0s - loss: 0.1722 - categorical_accuracy: 0.9337\n",
            "Epoch 14: val_loss improved from 0.16973 to 0.16362, saving model to best.hdf5\n",
            "234/234 [==============================] - 2s 9ms/step - loss: 0.1723 - categorical_accuracy: 0.9337 - val_loss: 0.1636 - val_categorical_accuracy: 0.9380\n",
            "Epoch 15/20\n",
            "227/234 [============================>.] - ETA: 0s - loss: 0.1692 - categorical_accuracy: 0.9352\n",
            "Epoch 15: val_loss improved from 0.16362 to 0.15015, saving model to best.hdf5\n",
            "234/234 [==============================] - 2s 9ms/step - loss: 0.1697 - categorical_accuracy: 0.9352 - val_loss: 0.1502 - val_categorical_accuracy: 0.9400\n",
            "Epoch 16/20\n",
            "233/234 [============================>.] - ETA: 0s - loss: 0.1614 - categorical_accuracy: 0.9379\n",
            "Epoch 16: val_loss improved from 0.15015 to 0.14951, saving model to best.hdf5\n",
            "234/234 [==============================] - 3s 11ms/step - loss: 0.1610 - categorical_accuracy: 0.9380 - val_loss: 0.1495 - val_categorical_accuracy: 0.9417\n",
            "Epoch 17/20\n",
            "230/234 [============================>.] - ETA: 0s - loss: 0.1515 - categorical_accuracy: 0.9411\n",
            "Epoch 17: val_loss improved from 0.14951 to 0.12611, saving model to best.hdf5\n",
            "234/234 [==============================] - 2s 9ms/step - loss: 0.1517 - categorical_accuracy: 0.9411 - val_loss: 0.1261 - val_categorical_accuracy: 0.9511\n",
            "Epoch 18/20\n",
            "232/234 [============================>.] - ETA: 0s - loss: 0.1454 - categorical_accuracy: 0.9425\n",
            "Epoch 18: val_loss did not improve from 0.12611\n",
            "234/234 [==============================] - 2s 8ms/step - loss: 0.1456 - categorical_accuracy: 0.9424 - val_loss: 0.1509 - val_categorical_accuracy: 0.9395\n",
            "Epoch 19/20\n",
            "234/234 [==============================] - ETA: 0s - loss: 0.1414 - categorical_accuracy: 0.9446\n",
            "Epoch 19: val_loss did not improve from 0.12611\n",
            "234/234 [==============================] - 2s 8ms/step - loss: 0.1414 - categorical_accuracy: 0.9446 - val_loss: 0.1388 - val_categorical_accuracy: 0.9462\n",
            "Epoch 19: early stopping\n"
          ]
        }
      ]
    },
    {
      "cell_type": "code",
      "source": [
        "model.save_weights(\"my_model.hdf5\")"
      ],
      "metadata": {
        "id": "SHclcBEISZcc"
      },
      "execution_count": 92,
      "outputs": []
    },
    {
      "cell_type": "code",
      "source": [
        "plt.plot(history.history[\"loss\"], label=\"train loss\")\n",
        "plt.plot(history.history[\"val_loss\"], label=\"valid loss\")\n",
        "plt.legend()\n",
        "plt.grid()"
      ],
      "metadata": {
        "id": "-KvTBysxjIkH",
        "colab": {
          "base_uri": "https://localhost:8080/",
          "height": 431
        },
        "outputId": "474fc9d0-df07-4d4f-f356-7279aeb22c7d"
      },
      "execution_count": 93,
      "outputs": [
        {
          "output_type": "display_data",
          "data": {
            "text/plain": [
              "<Figure size 640x480 with 1 Axes>"
            ],
            "image/png": "[encoded data removed]"
          },
          "metadata": {}
        }
      ]
    },
    {
      "cell_type": "code",
      "source": [
        "plt.plot(history.history[\"categorical_accuracy\"], label=\"train loss\")\n",
        "plt.plot(history.history[\"val_categorical_accuracy\"], label=\"valid loss\")\n",
        "plt.legend()\n",
        "plt.grid()"
      ],
      "metadata": {
        "id": "G8gDAUiUjNGr",
        "colab": {
          "base_uri": "https://localhost:8080/",
          "height": 430
        },
        "outputId": "270fe36c-ec6a-4a0b-c6f8-39fddcde1c2e"
      },
      "execution_count": 94,
      "outputs": [
        {
          "output_type": "display_data",
          "data": {
            "text/plain": [
              "<Figure size 640x480 with 1 Axes>"
            ],
            "image/png": "[encoded data removed]"
          },
          "metadata": {}
        }
      ]
    },
    {
      "cell_type": "code",
      "source": [
        "test_out = model(x_test).numpy()"
      ],
      "metadata": {
        "id": "jXN-O4mKTIo5"
      },
      "execution_count": 95,
      "outputs": []
    },
    {
      "cell_type": "code",
      "source": [
        "accuracy_test = np.mean(test_out.argmax(axis=1) == y_test)\n",
        "print(f\"Accuracy test data: {accuracy_test.round(5)}\" )"
      ],
      "metadata": {
        "colab": {
          "base_uri": "https://localhost:8080/"
        },
        "id": "W2MtWzySTSlQ",
        "outputId": "ebbb0f43-bcd4-427c-9435-c95f3f6df91f"
      },
      "execution_count": 96,
      "outputs": [
        {
          "output_type": "stream",
          "name": "stdout",
          "text": [
            "Accuracy test data: 0.897\n"
          ]
        }
      ]
    },
    {
      "cell_type": "markdown",
      "source": [
        "batch_size=**4** lr=**0.001**\n",
        "n_epochs=**10**\n",
        "\n",
        "\n",
        "Dense(1024, activation=\"relu\", input_shape=(num_features,)),\n",
        "\n",
        "        Dense(1024, activation=\"relu\"),\n",
        "        Dense(1024, activation=\"relu\"),\n",
        "        Dense(10, activation=\"softmax\"),\n",
        "\n",
        "Accuracy test data: 0.8703"
      ],
      "metadata": {
        "id": "fvsfW2TCUD-F"
      }
    },
    {
      "cell_type": "markdown",
      "source": [
        "batch_size=**256** lr=**0.001** n_epochs=**10**\n",
        "\n",
        "        Dense(1024, activation=\"relu\", input_shape=(num_features,)),\n",
        "        Dense(1024, activation=\"relu\"),\n",
        "        Dense(1024, activation=\"relu\"),\n",
        "        Dense(10, activation=\"softmax\"),\n",
        "\n",
        "\n",
        "Accuracy test data: 0.8882"
      ],
      "metadata": {
        "id": "BZ4ImvlDU27K"
      }
    },
    {
      "cell_type": "markdown",
      "source": [
        "Epoch 10: val_loss improved from 0.20018 to 0.18764, saving model to best.hdf5\n",
        "234/234 [==============================] - 2s 10ms/step - loss: 0.2111 - categorical_accuracy: 0.9191 - val_loss: 0.1876 - val_categorical_accuracy: 0.9276\n",
        "\n",
        "        Dense(512, activation=\"relu\", input_shape=(num_features,)),\n",
        "        Dense(1024, activation=\"relu\"),\n",
        "        Dense(1024, activation=\"relu\"),\n",
        "        Dense(10, activation=\"softmax\"),\n",
        "\n",
        "batch_size=**256** lr=**0.001** n_epochs=**10**\n",
        "\n",
        "Accuracy test data: **0.8887**"
      ],
      "metadata": {
        "id": "Yh0bHpTnVrsq"
      }
    },
    {
      "cell_type": "markdown",
      "source": [
        "Epoch 15: val_loss improved from 0.16578 to 0.14717, saving model to best.hdf5\n",
        "234/234 [==============================] - 3s 13ms/step - loss: 0.1662 - categorical_accuracy: 0.9361 - val_loss: 0.1472 - val_categorical_accuracy: 0.9440\n",
        "\n",
        "        Dense(512, activation=\"relu\", input_shape=(num_features,)),\n",
        "        Dense(1024, activation=\"relu\"),   \n",
        "        Dense(1024, activation=\"relu\"),\n",
        "        Dense(10, activation=\"softmax\"),\n",
        "\n",
        "\n",
        "batch_size=**256** lr=**0.001** n_epochs=**15**\n",
        "\n",
        "Accuracy test data: **0.8949**"
      ],
      "metadata": {
        "id": "oeUx7ECpW6N6"
      }
    },
    {
      "cell_type": "markdown",
      "source": [
        "Epoch 19: val_loss did not improve from 0.12611\n",
        "234/234 [==============================] - 2s 8ms/step - loss: 0.1414 - categorical_accuracy: 0.9446 - val_loss: 0.1388 - val_categorical_accuracy: 0.9462\n",
        "\n",
        "        Dense(1024, activation=\"relu\", input_shape=(num_features,)),\n",
        "        Dense(1024, activation=\"relu\"),\n",
        "        Dense(1024, activation=\"relu\"),\n",
        "        Dense(10, activation=\"softmax\"),\n",
        "\n",
        "batch_size=**256** lr=**0.001** n_epochs=**20**\n",
        "\n",
        "Accuracy test data: **0.897**"
      ],
      "metadata": {
        "id": "rGS9DGLlZGMy"
      }
    }
  ]
}