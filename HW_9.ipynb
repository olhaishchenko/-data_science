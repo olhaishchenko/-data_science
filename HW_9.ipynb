{
  "nbformat": 4,
  "nbformat_minor": 0,
  "metadata": {
    "colab": {
      "provenance": [],
      "gpuType": "T4",
      "authorship_tag": "ABX9TyMlq0h0pvxqthGBrVoo4zjQ",
      "include_colab_link": true
    },
    "kernelspec": {
      "name": "python3",
      "display_name": "Python 3"
    },
    "language_info": {
      "name": "python"
    },
    "accelerator": "GPU"
  },
  "cells": [
    {
      "cell_type": "markdown",
      "metadata": {
        "id": "view-in-github",
        "colab_type": "text"
      },
      "source": [
        "<a href=\"https://colab.research.google.com/github/olhaishchenko/-data_science/blob/master/HW_9.ipynb\" target=\"_parent\"><img src=\"https://colab.research.google.com/assets/colab-badge.svg\" alt=\"Open In Colab\"/></a>"
      ]
    },
    {
      "cell_type": "code",
      "execution_count": 68,
      "metadata": {
        "id": "yrvAlZ9dZ0If"
      },
      "outputs": [],
      "source": [
        "import math\n",
        "\n",
        "import os\n",
        "import random\n",
        "\n",
        "import numpy as np\n",
        "import pandas as pd\n",
        "\n",
        "import matplotlib.pyplot as plt\n",
        "import seaborn as sn\n",
        "import tensorflow as tf\n",
        "from sklearn.model_selection import train_test_split\n",
        "\n",
        "from tensorflow.keras.callbacks import EarlyStopping, ModelCheckpoint\n",
        "from tensorflow.keras.layers import Dense, Dropout\n",
        "from tensorflow.keras.models import Sequential, Model\n"
      ]
    },
    {
      "cell_type": "code",
      "source": [
        "from keras.datasets import fashion_mnist\n",
        "\n",
        "# Загружаем датасет\n",
        "(x_train, y_train), (x_test, y_test) = fashion_mnist.load_data()"
      ],
      "metadata": {
        "id": "2m9uiRUVaOVN"
      },
      "execution_count": 69,
      "outputs": []
    },
    {
      "cell_type": "code",
      "source": [
        "num_classes = 10\n",
        "num_features = 28 * 28\n",
        "\n",
        "lr = 0.001\n",
        "n_epochs = 10\n",
        "batch_size = 256"
      ],
      "metadata": {
        "id": "bPJj_q1hZ63Z"
      },
      "execution_count": 70,
      "outputs": []
    },
    {
      "cell_type": "code",
      "source": [
        "x_train, x_test = np.array(x_train, np.float32), np.array(x_test, np.float32)\n",
        "x_train, x_test = x_train.reshape([-1, num_features]), x_test.reshape([-1, num_features])\n",
        "x_train, x_test = x_train / 255., x_test / 255."
      ],
      "metadata": {
        "id": "RpbcR3o-HJZT"
      },
      "execution_count": 71,
      "outputs": []
    },
    {
      "cell_type": "code",
      "source": [
        "\n",
        "label = \\\n",
        "{\n",
        "    0:\"T-shirt/top\",\n",
        "    1:\"Trouser\",\n",
        "    2:\"Pullover\",\n",
        "    3:\"Dress\",\n",
        "    4:\"Coat\",\n",
        "    5:\"Sandal\",\n",
        "    6:\"Shirt\",\n",
        "    7:\"Sneaker\",\n",
        "    8:\"Bag\",\n",
        "    9:\"Ankle boot\",\n",
        "}\n"
      ],
      "metadata": {
        "id": "tyqoM8XUabxj"
      },
      "execution_count": 72,
      "outputs": []
    },
    {
      "cell_type": "code",
      "source": [
        "plt.imshow(x_train[0].reshape(28, 28), cmap=\"gray\")\n",
        "plt.title(label[y_train[0]])"
      ],
      "metadata": {
        "colab": {
          "base_uri": "https://localhost:8080/",
          "height": 470
        },
        "id": "H5JORy-0cxSP",
        "outputId": "30deabe2-e413-4473-fc2a-fb35b0c3eb99"
      },
      "execution_count": 73,
      "outputs": [
        {
          "output_type": "execute_result",
          "data": {
            "text/plain": [
              "Text(0.5, 1.0, 'Ankle boot')"
            ]
          },
          "metadata": {},
          "execution_count": 73
        },
        {
          "output_type": "display_data",
          "data": {
            "text/plain": [
              "<Figure size 640x480 with 1 Axes>"
            ],
            "image/png": "[encoded data removed]"
          },
          "metadata": {}
        }
      ]
    },
    {
      "cell_type": "code",
      "source": [
        "class Dataset(tf.keras.utils.Sequence):\n",
        "    def __init__(self, x, y, shuffle=True, batch_size=256):\n",
        "        self.x = x\n",
        "        self.y = y\n",
        "        self.shuffle = shuffle\n",
        "        self.indexes = np.arange(len(self.x))\n",
        "        self.batch_size = batch_size\n",
        "\n",
        "        if shuffle:\n",
        "            self.on_epoch_end()\n",
        "\n",
        "    def __len__(self):\n",
        "        return len(self.x) // self.batch_size\n",
        "        # return math.ceil(len(self.x) / self.batch_size) # округлюємо результат вгору\n",
        "\n",
        "    def __getitem__(self, n):\n",
        "        indexes = self.indexes[n * self.batch_size : (n + 1) * self.batch_size]\n",
        "        batch_x = [self.x[i] for i in indexes]\n",
        "        batch_y = [tf.keras.utils.to_categorical(self.y[i], num_classes) for i in indexes]\n",
        "\n",
        "        return np.array(batch_x), np.array(batch_y)\n",
        "\n",
        "    def on_epoch_end(self):\n",
        "        if self.shuffle:\n",
        "            np.random.shuffle(self.indexes)"
      ],
      "metadata": {
        "id": "Z7d4jOkQgMZp"
      },
      "execution_count": 74,
      "outputs": []
    },
    {
      "cell_type": "code",
      "source": [
        "x_train_part, x_valid, y_train_part, y_valid = train_test_split(x_train, y_train, test_size=0.2, shuffle=True)"
      ],
      "metadata": {
        "id": "puqncIBtJ5RR"
      },
      "execution_count": 75,
      "outputs": []
    },
    {
      "cell_type": "code",
      "source": [
        "x_train_part.shape, y_train_part.shape, x_valid.shape, x_test.shape"
      ],
      "metadata": {
        "colab": {
          "base_uri": "https://localhost:8080/"
        },
        "id": "xkIXTLyvh-AN",
        "outputId": "e52c3b6f-3634-4f8f-a560-61d702f819b2"
      },
      "execution_count": 76,
      "outputs": [
        {
          "output_type": "execute_result",
          "data": {
            "text/plain": [
              "((48000, 784), (48000,), (12000, 784), (10000, 784))"
            ]
          },
          "metadata": {},
          "execution_count": 76
        }
      ]
    },
    {
      "cell_type": "code",
      "source": [
        "train_dataset = Dataset(x_train, y_train, shuffle=True, batch_size=batch_size)\n",
        "valid_dataset = Dataset(x_valid, y_valid, shuffle=False, batch_size=batch_size)"
      ],
      "metadata": {
        "id": "cdscGej2idd2"
      },
      "execution_count": 137,
      "outputs": []
    },
    {
      "cell_type": "code",
      "source": [
        "from tensorflow.keras.initializers import RandomNormal\n",
        "\n",
        "model = Sequential(\n",
        "    [\n",
        "        Dense(1024, activation=\"relu\", input_shape=(num_features,)),\n",
        "        Dense(1024, activation=\"relu\"),\n",
        "        Dense(1024, activation=\"relu\"),\n",
        "        Dense(10, activation=\"softmax\"),\n",
        "    ]\n",
        ")"
      ],
      "metadata": {
        "id": "MRxw_1iti430"
      },
      "execution_count": 138,
      "outputs": []
    },
    {
      "cell_type": "code",
      "source": [
        "from tensorflow.keras.optimizers import Adam, SGD\n",
        "from tensorflow.keras.metrics import CategoricalAccuracy\n",
        "\n",
        "model.compile(\n",
        "    optimizer=Adam(learning_rate=0.001),\n",
        "    loss=\"categorical_crossentropy\",\n",
        "    metrics=[CategoricalAccuracy()],\n",
        ")"
      ],
      "metadata": {
        "id": "Txn_vRowi7zu"
      },
      "execution_count": 139,
      "outputs": []
    },
    {
      "cell_type": "code",
      "source": [
        "callback_early_stopping = EarlyStopping(\n",
        "    monitor=\"val_loss\",\n",
        "    patience=2,\n",
        "    verbose=1\n",
        ")\n",
        "\n",
        "\n",
        "callback_save = ModelCheckpoint(\n",
        "    \"best.hdf5\",\n",
        "    monitor=\"val_loss\",\n",
        "    save_best_only=True,\n",
        "    verbose=1\n",
        ")"
      ],
      "metadata": {
        "id": "siccqkE5OWzd"
      },
      "execution_count": 140,
      "outputs": []
    },
    {
      "cell_type": "code",
      "source": [
        "history = model.fit(\n",
        "    train_dataset,\n",
        "    validation_data=valid_dataset,\n",
        "    epochs=20,\n",
        "    verbose=1,\n",
        "    callbacks=[callback_early_stopping, callback_save]\n",
        ")"
      ],
      "metadata": {
        "colab": {
          "base_uri": "https://localhost:8080/"
        },
        "id": "dYmBUWkCjBJF",
        "outputId": "2b6793db-34ef-455e-b1da-64f575468efe"
      },
      "execution_count": 141,
      "outputs": [
        {
          "output_type": "stream",
          "name": "stdout",
          "text": [
            "Epoch 1/20\n",
            "232/234 [============================>.] - ETA: 0s - loss: 0.4873 - categorical_accuracy: 0.8231\n",
            "Epoch 1: val_loss improved from inf to 0.34894, saving model to best.hdf5\n",
            "234/234 [==============================] - 4s 10ms/step - loss: 0.4862 - categorical_accuracy: 0.8234 - val_loss: 0.3489 - val_categorical_accuracy: 0.8707\n",
            "Epoch 2/20\n",
            "232/234 [============================>.] - ETA: 0s - loss: 0.3471 - categorical_accuracy: 0.8717\n",
            "Epoch 2: val_loss improved from 0.34894 to 0.32185, saving model to best.hdf5\n",
            "234/234 [==============================] - 2s 9ms/step - loss: 0.3466 - categorical_accuracy: 0.8719 - val_loss: 0.3219 - val_categorical_accuracy: 0.8815\n",
            "Epoch 3/20\n",
            "232/234 [============================>.] - ETA: 0s - loss: 0.3125 - categorical_accuracy: 0.8838\n",
            "Epoch 3: val_loss improved from 0.32185 to 0.26786, saving model to best.hdf5\n",
            "234/234 [==============================] - 3s 11ms/step - loss: 0.3124 - categorical_accuracy: 0.8839 - val_loss: 0.2679 - val_categorical_accuracy: 0.8989\n",
            "Epoch 4/20\n",
            "228/234 [============================>.] - ETA: 0s - loss: 0.2868 - categorical_accuracy: 0.8933\n",
            "Epoch 4: val_loss did not improve from 0.26786\n",
            "234/234 [==============================] - 2s 8ms/step - loss: 0.2870 - categorical_accuracy: 0.8932 - val_loss: 0.2745 - val_categorical_accuracy: 0.8981\n",
            "Epoch 5/20\n",
            "229/234 [============================>.] - ETA: 0s - loss: 0.2689 - categorical_accuracy: 0.8986\n",
            "Epoch 5: val_loss improved from 0.26786 to 0.26617, saving model to best.hdf5\n",
            "234/234 [==============================] - 2s 9ms/step - loss: 0.2692 - categorical_accuracy: 0.8985 - val_loss: 0.2662 - val_categorical_accuracy: 0.9010\n",
            "Epoch 6/20\n",
            "234/234 [==============================] - ETA: 0s - loss: 0.2566 - categorical_accuracy: 0.9028\n",
            "Epoch 6: val_loss improved from 0.26617 to 0.25050, saving model to best.hdf5\n",
            "234/234 [==============================] - 2s 10ms/step - loss: 0.2566 - categorical_accuracy: 0.9028 - val_loss: 0.2505 - val_categorical_accuracy: 0.9037\n",
            "Epoch 7/20\n",
            "232/234 [============================>.] - ETA: 0s - loss: 0.2412 - categorical_accuracy: 0.9085\n",
            "Epoch 7: val_loss improved from 0.25050 to 0.23117, saving model to best.hdf5\n",
            "234/234 [==============================] - 3s 11ms/step - loss: 0.2411 - categorical_accuracy: 0.9086 - val_loss: 0.2312 - val_categorical_accuracy: 0.9106\n",
            "Epoch 8/20\n",
            "227/234 [============================>.] - ETA: 0s - loss: 0.2328 - categorical_accuracy: 0.9101\n",
            "Epoch 8: val_loss improved from 0.23117 to 0.22448, saving model to best.hdf5\n",
            "234/234 [==============================] - 3s 11ms/step - loss: 0.2332 - categorical_accuracy: 0.9100 - val_loss: 0.2245 - val_categorical_accuracy: 0.9158\n",
            "Epoch 9/20\n",
            "228/234 [============================>.] - ETA: 0s - loss: 0.2203 - categorical_accuracy: 0.9149\n",
            "Epoch 9: val_loss improved from 0.22448 to 0.19985, saving model to best.hdf5\n",
            "234/234 [==============================] - 2s 9ms/step - loss: 0.2204 - categorical_accuracy: 0.9150 - val_loss: 0.1998 - val_categorical_accuracy: 0.9224\n",
            "Epoch 10/20\n",
            "233/234 [============================>.] - ETA: 0s - loss: 0.2129 - categorical_accuracy: 0.9185\n",
            "Epoch 10: val_loss improved from 0.19985 to 0.19287, saving model to best.hdf5\n",
            "234/234 [==============================] - 2s 9ms/step - loss: 0.2127 - categorical_accuracy: 0.9185 - val_loss: 0.1929 - val_categorical_accuracy: 0.9272\n",
            "Epoch 11/20\n",
            "234/234 [==============================] - ETA: 0s - loss: 0.1996 - categorical_accuracy: 0.9240\n",
            "Epoch 11: val_loss improved from 0.19287 to 0.19115, saving model to best.hdf5\n",
            "234/234 [==============================] - 2s 9ms/step - loss: 0.1996 - categorical_accuracy: 0.9240 - val_loss: 0.1912 - val_categorical_accuracy: 0.9246\n",
            "Epoch 12/20\n",
            "233/234 [============================>.] - ETA: 0s - loss: 0.1930 - categorical_accuracy: 0.9262\n",
            "Epoch 12: val_loss did not improve from 0.19115\n",
            "234/234 [==============================] - 2s 8ms/step - loss: 0.1936 - categorical_accuracy: 0.9262 - val_loss: 0.2019 - val_categorical_accuracy: 0.9196\n",
            "Epoch 13/20\n",
            "232/234 [============================>.] - ETA: 0s - loss: 0.1898 - categorical_accuracy: 0.9271\n",
            "Epoch 13: val_loss improved from 0.19115 to 0.17618, saving model to best.hdf5\n",
            "234/234 [==============================] - 3s 13ms/step - loss: 0.1901 - categorical_accuracy: 0.9269 - val_loss: 0.1762 - val_categorical_accuracy: 0.9322\n",
            "Epoch 14/20\n",
            "230/234 [============================>.] - ETA: 0s - loss: 0.1782 - categorical_accuracy: 0.9313\n",
            "Epoch 14: val_loss did not improve from 0.17618\n",
            "234/234 [==============================] - 2s 9ms/step - loss: 0.1782 - categorical_accuracy: 0.9312 - val_loss: 0.1838 - val_categorical_accuracy: 0.9304\n",
            "Epoch 15/20\n",
            "227/234 [============================>.] - ETA: 0s - loss: 0.1705 - categorical_accuracy: 0.9345\n",
            "Epoch 15: val_loss improved from 0.17618 to 0.16102, saving model to best.hdf5\n",
            "234/234 [==============================] - 2s 9ms/step - loss: 0.1710 - categorical_accuracy: 0.9343 - val_loss: 0.1610 - val_categorical_accuracy: 0.9369\n",
            "Epoch 16/20\n",
            "232/234 [============================>.] - ETA: 0s - loss: 0.1602 - categorical_accuracy: 0.9377\n",
            "Epoch 16: val_loss improved from 0.16102 to 0.13839, saving model to best.hdf5\n",
            "234/234 [==============================] - 2s 9ms/step - loss: 0.1599 - categorical_accuracy: 0.9378 - val_loss: 0.1384 - val_categorical_accuracy: 0.9471\n",
            "Epoch 17/20\n",
            "227/234 [============================>.] - ETA: 0s - loss: 0.1562 - categorical_accuracy: 0.9383\n",
            "Epoch 17: val_loss did not improve from 0.13839\n",
            "234/234 [==============================] - 2s 8ms/step - loss: 0.1570 - categorical_accuracy: 0.9384 - val_loss: 0.1477 - val_categorical_accuracy: 0.9430\n",
            "Epoch 18/20\n",
            "233/234 [============================>.] - ETA: 0s - loss: 0.1502 - categorical_accuracy: 0.9412\n",
            "Epoch 18: val_loss did not improve from 0.13839\n",
            "234/234 [==============================] - 3s 13ms/step - loss: 0.1505 - categorical_accuracy: 0.9411 - val_loss: 0.1400 - val_categorical_accuracy: 0.9445\n",
            "Epoch 18: early stopping\n"
          ]
        }
      ]
    },
    {
      "cell_type": "code",
      "source": [
        "model.save_weights(\"my_model.hdf5\")"
      ],
      "metadata": {
        "id": "SHclcBEISZcc"
      },
      "execution_count": 142,
      "outputs": []
    },
    {
      "cell_type": "code",
      "source": [
        "plt.plot(history.history[\"loss\"], label=\"train loss\")\n",
        "plt.plot(history.history[\"val_loss\"], label=\"valid loss\")\n",
        "plt.legend()\n",
        "plt.grid()"
      ],
      "metadata": {
        "id": "-KvTBysxjIkH",
        "colab": {
          "base_uri": "https://localhost:8080/",
          "height": 432
        },
        "outputId": "4771fbe5-1d3e-4923-d45a-235e0d4f8d09"
      },
      "execution_count": 143,
      "outputs": [
        {
          "output_type": "display_data",
          "data": {
            "text/plain": [
              "<Figure size 640x480 with 1 Axes>"
            ],
            "image/png": "[encoded data removed]"
          },
          "metadata": {}
        }
      ]
    },
    {
      "cell_type": "code",
      "source": [
        "plt.plot(history.history[\"categorical_accuracy\"], label=\"train loss\")\n",
        "plt.plot(history.history[\"val_categorical_accuracy\"], label=\"valid loss\")\n",
        "plt.legend()\n",
        "plt.grid()"
      ],
      "metadata": {
        "id": "G8gDAUiUjNGr",
        "colab": {
          "base_uri": "https://localhost:8080/",
          "height": 430
        },
        "outputId": "0d7b2397-9762-45e9-e21a-bdc5407f8779"
      },
      "execution_count": 144,
      "outputs": [
        {
          "output_type": "display_data",
          "data": {
            "text/plain": [
              "<Figure size 640x480 with 1 Axes>"
            ],
            "image/png": "[encoded data removed]"
          },
          "metadata": {}
        }
      ]
    },
    {
      "cell_type": "code",
      "source": [
        "test_out = model(x_test).numpy()"
      ],
      "metadata": {
        "id": "jXN-O4mKTIo5"
      },
      "execution_count": 145,
      "outputs": []
    },
    {
      "cell_type": "code",
      "source": [
        "accuracy_test = np.mean(test_out.argmax(axis=1) == y_test)\n",
        "print(f\"Accuracy test data: {accuracy_test.round(5)}\" )"
      ],
      "metadata": {
        "id": "W2MtWzySTSlQ"
      },
      "execution_count": null,
      "outputs": []
    },
    {
      "cell_type": "markdown",
      "source": [
        "batch_size=**4** lr=**0.001**\n",
        "n_epochs=**10**\n",
        "\n",
        "\n",
        "        Dense(1024, activation=\"relu\", input_shape=(num_features,)),\n",
        "        Dense(1024, activation=\"relu\"),\n",
        "        Dense(1024, activation=\"relu\"),\n",
        "        Dense(10, activation=\"softmax\"),\n",
        "\n",
        "optimizer=Adam\n",
        "\n",
        "Accuracy test data: **0.8703**"
      ],
      "metadata": {
        "id": "fvsfW2TCUD-F"
      }
    },
    {
      "cell_type": "markdown",
      "source": [
        "batch_size=**256** lr=**0.001** n_epochs=**10**\n",
        "\n",
        "        Dense(1024, activation=\"relu\", input_shape=(num_features,)),\n",
        "        Dense(1024, activation=\"relu\"),\n",
        "        Dense(1024, activation=\"relu\"),\n",
        "        Dense(10, activation=\"softmax\"),\n",
        "optimizer=Adam\n",
        "\n",
        "Accuracy test data: 0.8882"
      ],
      "metadata": {
        "id": "BZ4ImvlDU27K"
      }
    },
    {
      "cell_type": "markdown",
      "source": [
        "Epoch 10: val_loss improved from 0.20018 to 0.18764, saving model to best.hdf5\n",
        "234/234 [==============================] - 2s 10ms/step - loss: 0.2111 - categorical_accuracy: 0.9191 - val_loss: 0.1876 - val_categorical_accuracy: 0.9276\n",
        "\n",
        "        Dense(512, activation=\"relu\", input_shape=(num_features,)),\n",
        "        Dense(1024, activation=\"relu\"),\n",
        "        Dense(1024, activation=\"relu\"),\n",
        "        Dense(10, activation=\"softmax\"),\n",
        "optimizer=**Adam**\n",
        "\n",
        "batch_size=**256** lr=**0.001** n_epochs=**10**\n",
        "\n",
        "Accuracy test data: **0.8887**"
      ],
      "metadata": {
        "id": "Yh0bHpTnVrsq"
      }
    },
    {
      "cell_type": "markdown",
      "source": [
        "Epoch 15: val_loss improved from 0.16578 to 0.14717, saving model to best.hdf5\n",
        "234/234 [==============================] - 3s 13ms/step - loss: 0.1662 - categorical_accuracy: 0.9361 - val_loss: 0.1472 - val_categorical_accuracy: 0.9440\n",
        "\n",
        "        Dense(512, activation=\"relu\", input_shape=(num_features,)),\n",
        "        Dense(1024, activation=\"relu\"),   \n",
        "        Dense(1024, activation=\"relu\"),\n",
        "        Dense(10, activation=\"softmax\"),\n",
        "optimizer=**Adam**\n",
        "\n",
        "batch_size=**256** lr=**0.001** n_epochs=**15**\n",
        "\n",
        "Accuracy test data: **0.8949**"
      ],
      "metadata": {
        "id": "oeUx7ECpW6N6"
      }
    },
    {
      "cell_type": "markdown",
      "source": [
        "Epoch 20: val_loss improved from 0.12491 to 0.11912, saving model to best.hdf5\n",
        "234/234 [==============================] - 2s 9ms/step - loss: 0.1272 - categorical_accuracy: 0.9540 - val_loss: 0.1191 - val_categorical_accuracy: 0.9603\n",
        "\n",
        "    Dense(1024, activation=\"relu\", input_shape=(num_features,)),\n",
        "    Dense(1024, activation=\"relu\"),\n",
        "    Dense(1024, activation=\"relu\"),\n",
        "    Dense(10, activation=\"softmax\"),\n",
        "optimizer=**Adam**\n",
        "\n",
        "batch_size=**256** lr=**0.0001** n_epochs=**20**\n",
        "\n",
        "Accuracy test data: **0.8932**"
      ],
      "metadata": {
        "id": "7G4Pds_TbNh4"
      }
    },
    {
      "cell_type": "markdown",
      "source": [
        "Epoch 20: val_loss improved from 1.69401 to 1.66520, saving model to best.hdf5\n",
        "234/234 [==============================] - 2s 9ms/step - loss: 1.6812 - categorical_accuracy: 0.6386 - val_loss: 1.6652 - val_categorical_accuracy: 0.6431\n",
        "\n",
        "       Dense(1024, activation=\"relu\", input_shape=(num_features,)),\n",
        "       Dense(1024, activation=\"relu\"),\n",
        "       Dense(1024, activation=\"relu\"),\n",
        "       Dense(10, activation=\"softmax\"),\n",
        "\n",
        "optimizer=**SGD**\n",
        "\n",
        "batch_size=**256** lr=**0.0001** n_epochs=**20**\n",
        "\n",
        "Accuracy test data: **0.6314**"
      ],
      "metadata": {
        "id": "seGjn50Lb-8k"
      }
    },
    {
      "cell_type": "markdown",
      "source": [
        "# best\n",
        "Epoch 19: val_loss did not improve from 0.12611\n",
        "234/234 [==============================] - 2s 8ms/step - loss: 0.1414 - categorical_accuracy: 0.9446 - val_loss: 0.1388 - val_categorical_accuracy: 0.9462\n",
        "\n",
        "        Dense(1024, activation=\"relu\", input_shape=(num_features,)),\n",
        "        Dense(1024, activation=\"relu\"),\n",
        "        Dense(1024, activation=\"relu\"),\n",
        "        Dense(10, activation=\"softmax\"),\n",
        "optimizer=**Adam**\n",
        "\n",
        "batch_size=**256** lr=**0.001** n_epochs=**20**\n",
        "\n",
        "Accuracy test data: **0.897**"
      ],
      "metadata": {
        "id": "rGS9DGLlZGMy"
      }
    }
  ]
}