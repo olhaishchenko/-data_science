{
  "nbformat": 4,
  "nbformat_minor": 0,
  "metadata": {
    "colab": {
      "provenance": [],
      "mount_file_id": "1dy1morJmSkA3QzKfy5XXjbBsHSQ-eK6A",
      "authorship_tag": "ABX9TyN5YIfF1j03rsHKGBduFuNm",
      "include_colab_link": true
    },
    "kernelspec": {
      "name": "python3",
      "display_name": "Python 3"
    },
    "language_info": {
      "name": "python"
    }
  },
  "cells": [
    {
      "cell_type": "markdown",
      "metadata": {
        "id": "view-in-github",
        "colab_type": "text"
      },
      "source": [
        "<a href=\"https://colab.research.google.com/github/olhaishchenko/-data_science/blob/master/Hw_3(anal).ipynb\" target=\"_parent\"><img src=\"https://colab.research.google.com/assets/colab-badge.svg\" alt=\"Open In Colab\"/></a>"
      ]
    },
    {
      "cell_type": "code",
      "source": [
        "import random\n",
        "\n",
        "import matplotlib.pyplot as plt\n",
        "import numpy as np\n",
        "import pandas as pd\n",
        "\n",
        "df = pd.read_csv('/content/drive/MyDrive/Colab Notebooks/Housing.csv')\n",
        "df_cut = df[['bedrooms', 'bathrooms', 'area', 'price']]\n",
        "df_cut.head()"
      ],
      "metadata": {
        "colab": {
          "base_uri": "https://localhost:8080/",
          "height": 206
        },
        "id": "ra48ipxMPJHD",
        "outputId": "0fd35896-9588-4298-bc90-088f1cffc66f"
      },
      "execution_count": 15,
      "outputs": [
        {
          "output_type": "execute_result",
          "data": {
            "text/plain": [
              "   bedrooms  bathrooms  area     price\n",
              "0         4          2  7420  13300000\n",
              "1         4          4  8960  12250000\n",
              "2         3          2  9960  12250000\n",
              "3         4          2  7500  12215000\n",
              "4         4          1  7420  11410000"
            ],
            "text/html": [
              "\n",
              "  <div id=\"df-419b76a8-0b1e-4690-84c3-b9db68d98b56\">\n",
              "    <div class=\"colab-df-container\">\n",
              "      <div>\n",
              "<style scoped>\n",
              "    .dataframe tbody tr th:only-of-type {\n",
              "        vertical-align: middle;\n",
              "    }\n",
              "\n",
              "    .dataframe tbody tr th {\n",
              "        vertical-align: top;\n",
              "    }\n",
              "\n",
              "    .dataframe thead th {\n",
              "        text-align: right;\n",
              "    }\n",
              "</style>\n",
              "<table border=\"1\" class=\"dataframe\">\n",
              "  <thead>\n",
              "    <tr style=\"text-align: right;\">\n",
              "      <th></th>\n",
              "      <th>bedrooms</th>\n",
              "      <th>bathrooms</th>\n",
              "      <th>area</th>\n",
              "      <th>price</th>\n",
              "    </tr>\n",
              "  </thead>\n",
              "  <tbody>\n",
              "    <tr>\n",
              "      <th>0</th>\n",
              "      <td>4</td>\n",
              "      <td>2</td>\n",
              "      <td>7420</td>\n",
              "      <td>13300000</td>\n",
              "    </tr>\n",
              "    <tr>\n",
              "      <th>1</th>\n",
              "      <td>4</td>\n",
              "      <td>4</td>\n",
              "      <td>8960</td>\n",
              "      <td>12250000</td>\n",
              "    </tr>\n",
              "    <tr>\n",
              "      <th>2</th>\n",
              "      <td>3</td>\n",
              "      <td>2</td>\n",
              "      <td>9960</td>\n",
              "      <td>12250000</td>\n",
              "    </tr>\n",
              "    <tr>\n",
              "      <th>3</th>\n",
              "      <td>4</td>\n",
              "      <td>2</td>\n",
              "      <td>7500</td>\n",
              "      <td>12215000</td>\n",
              "    </tr>\n",
              "    <tr>\n",
              "      <th>4</th>\n",
              "      <td>4</td>\n",
              "      <td>1</td>\n",
              "      <td>7420</td>\n",
              "      <td>11410000</td>\n",
              "    </tr>\n",
              "  </tbody>\n",
              "</table>\n",
              "</div>\n",
              "      <button class=\"colab-df-convert\" onclick=\"convertToInteractive('df-419b76a8-0b1e-4690-84c3-b9db68d98b56')\"\n",
              "              title=\"Convert this dataframe to an interactive table.\"\n",
              "              style=\"display:none;\">\n",
              "        \n",
              "  <svg xmlns=\"http://www.w3.org/2000/svg\" height=\"24px\"viewBox=\"0 0 24 24\"\n",
              "       width=\"24px\">\n",
              "    <path d=\"M0 0h24v24H0V0z\" fill=\"none\"/>\n",
              "    <path d=\"M18.56 5.44l.94 2.06.94-2.06 2.06-.94-2.06-.94-.94-2.06-.94 2.06-2.06.94zm-11 1L8.5 8.5l.94-2.06 2.06-.94-2.06-.94L8.5 2.5l-.94 2.06-2.06.94zm10 10l.94 2.06.94-2.06 2.06-.94-2.06-.94-.94-2.06-.94 2.06-2.06.94z\"/><path d=\"M17.41 7.96l-1.37-1.37c-.4-.4-.92-.59-1.43-.59-.52 0-1.04.2-1.43.59L10.3 9.45l-7.72 7.72c-.78.78-.78 2.05 0 2.83L4 21.41c.39.39.9.59 1.41.59.51 0 1.02-.2 1.41-.59l7.78-7.78 2.81-2.81c.8-.78.8-2.07 0-2.86zM5.41 20L4 18.59l7.72-7.72 1.47 1.35L5.41 20z\"/>\n",
              "  </svg>\n",
              "      </button>\n",
              "      \n",
              "  <style>\n",
              "    .colab-df-container {\n",
              "      display:flex;\n",
              "      flex-wrap:wrap;\n",
              "      gap: 12px;\n",
              "    }\n",
              "\n",
              "    .colab-df-convert {\n",
              "      background-color: #E8F0FE;\n",
              "      border: none;\n",
              "      border-radius: 50%;\n",
              "      cursor: pointer;\n",
              "      display: none;\n",
              "      fill: #1967D2;\n",
              "      height: 32px;\n",
              "      padding: 0 0 0 0;\n",
              "      width: 32px;\n",
              "    }\n",
              "\n",
              "    .colab-df-convert:hover {\n",
              "      background-color: #E2EBFA;\n",
              "      box-shadow: 0px 1px 2px rgba(60, 64, 67, 0.3), 0px 1px 3px 1px rgba(60, 64, 67, 0.15);\n",
              "      fill: #174EA6;\n",
              "    }\n",
              "\n",
              "    [theme=dark] .colab-df-convert {\n",
              "      background-color: #3B4455;\n",
              "      fill: #D2E3FC;\n",
              "    }\n",
              "\n",
              "    [theme=dark] .colab-df-convert:hover {\n",
              "      background-color: #434B5C;\n",
              "      box-shadow: 0px 1px 3px 1px rgba(0, 0, 0, 0.15);\n",
              "      filter: drop-shadow(0px 1px 2px rgba(0, 0, 0, 0.3));\n",
              "      fill: #FFFFFF;\n",
              "    }\n",
              "  </style>\n",
              "\n",
              "      <script>\n",
              "        const buttonEl =\n",
              "          document.querySelector('#df-419b76a8-0b1e-4690-84c3-b9db68d98b56 button.colab-df-convert');\n",
              "        buttonEl.style.display =\n",
              "          google.colab.kernel.accessAllowed ? 'block' : 'none';\n",
              "\n",
              "        async function convertToInteractive(key) {\n",
              "          const element = document.querySelector('#df-419b76a8-0b1e-4690-84c3-b9db68d98b56');\n",
              "          const dataTable =\n",
              "            await google.colab.kernel.invokeFunction('convertToInteractive',\n",
              "                                                     [key], {});\n",
              "          if (!dataTable) return;\n",
              "\n",
              "          const docLinkHtml = 'Like what you see? Visit the ' +\n",
              "            '<a target=\"_blank\" href=https://colab.research.google.com/notebooks/data_table.ipynb>data table notebook</a>'\n",
              "            + ' to learn more about interactive tables.';\n",
              "          element.innerHTML = '';\n",
              "          dataTable['output_type'] = 'display_data';\n",
              "          await google.colab.output.renderOutput(dataTable, element);\n",
              "          const docLink = document.createElement('div');\n",
              "          docLink.innerHTML = docLinkHtml;\n",
              "          element.appendChild(docLink);\n",
              "        }\n",
              "      </script>\n",
              "    </div>\n",
              "  </div>\n",
              "  "
            ]
          },
          "metadata": {},
          "execution_count": 15
        }
      ]
    },
    {
      "cell_type": "code",
      "execution_count": 43,
      "metadata": {
        "id": "Ja40JvYM7VD5"
      },
      "outputs": [],
      "source": [
        "def cost(y: np.array, h: np.array)->np.array:\n",
        "  return np.mean((h-y)**2)/2\n",
        "\n",
        "\n",
        "class LinearRegression:\n",
        "  def __init__(self, lr: float, thr: float=0.00001, n_epochs: int=100):\n",
        "    self.lr = lr\n",
        "    self.thr = thr\n",
        "    self.n_epochs = n_epochs\n",
        "    self.w = np.array([random.uniform(500000, 1000000), random.uniform(500000, 2000000), random.uniform(0, 1000)])\n",
        "    print(f\"Init w: {self.w}\")\n",
        "\n",
        "  def predict(self, X: np.array)->np.array:\n",
        "    return X @ self.w\n",
        "\n",
        "  def update_w(self, X: np.array, y: np.array):\n",
        "    # w = w - lr / m * XT @ (w @ X - y)\n",
        "    m = len(y)\n",
        "    h = self.predict(X)\n",
        "    self.w -= self.lr / m * X.T @ (h - y)\n",
        "\n",
        "  def fit(self, X: np.array, y:np.array):\n",
        "    last_cost = 100000000000000\n",
        "\n",
        "    for i in range(self.n_epochs):\n",
        "      self.update_w(X,y)\n",
        "      new_cost = cost(y, self.predict(X))\n",
        "      print(f\"{i}, {self.w}, {new_cost}\")\n",
        "\n",
        "      if  last_cost - new_cost < self.thr:\n",
        "        break\n",
        "      last_cost = new_cost"
      ]
    },
    {
      "cell_type": "code",
      "source": [
        "X = np.array(df_cut[['bedrooms', 'bathrooms', 'area']])\n",
        "\n",
        "y = np.array(df_cut['price'])\n",
        "\n",
        "w_best = np.linalg.inv(X.T @ X) @ X.T @ y\n",
        "print(f'w_best: {w_best}')\n"
      ],
      "metadata": {
        "colab": {
          "base_uri": "https://localhost:8080/"
        },
        "id": "P2-q_VHqPPiT",
        "outputId": "fcaf88ec-c27f-4753-f7cb-e3c6f49ef841"
      },
      "execution_count": 45,
      "outputs": [
        {
          "output_type": "stream",
          "name": "stdout",
          "text": [
            "w_best: [3.68974672e+05 1.37031315e+06 3.72448352e+02]\n"
          ]
        }
      ]
    },
    {
      "cell_type": "code",
      "source": [
        "linear_regression = LinearRegression(lr=0.00000005, n_epochs=10000, thr=1000000)\n",
        "linear_regression.fit(X,y)\n"
      ],
      "metadata": {
        "colab": {
          "base_uri": "https://localhost:8080/"
        },
        "id": "TxT1gRnFXCY9",
        "outputId": "40f433eb-16a8-46d5-f687-1c9ff099b7b3"
      },
      "execution_count": 52,
      "outputs": [
        {
          "output_type": "stream",
          "name": "stdout",
          "text": [
            "Init w: [753640.0480602  747104.81593008    782.64020444]\n",
            "0, [7.53639673e+05 7.47104659e+05 5.67518263e+01], 2026762701528.9194\n",
            "1, [7.53639862e+05 7.47104750e+05 4.64300250e+02], 1298346037212.4114\n",
            "2, [7.53639734e+05 7.47104702e+05 2.35483105e+02], 1068731909214.7283\n",
            "3, [7.53639784e+05 7.47104733e+05 3.63951992e+02], 996352113799.433\n",
            "4, [7.53639734e+05 7.47104719e+05 2.91823432e+02], 973536291184.0413\n",
            "5, [7.53639740e+05 7.47104730e+05 3.32319861e+02], 966344202643.537\n",
            "6, [7.53639715e+05 7.47104727e+05 3.09583241e+02], 964077083847.2516\n",
            "7, [7.53639708e+05 7.47104732e+05 3.22348676e+02], 963362431757.4023\n",
            "8, [7.53639690e+05 7.47104732e+05 3.15181561e+02], 963137153815.9777\n",
            "9, [7.53639678e+05 7.47104735e+05 3.19205532e+02], 963066138156.7355\n",
            "10, [7.53639663e+05 7.47104737e+05 3.16946293e+02], 963043749609.8584\n",
            "11, [7.53639650e+05 7.47104739e+05 3.18214748e+02], 963036689476.5352\n",
            "12, [7.53639635e+05 7.47104741e+05 3.17502587e+02], 963034461220.9578\n",
            "13, [7.53639621e+05 7.47104743e+05 3.17902438e+02], 963033756087.2926\n"
          ]
        }
      ]
    }
  ]
}