{
  "nbformat": 4,
  "nbformat_minor": 0,
  "metadata": {
    "colab": {
      "provenance": [],
      "gpuType": "T4",
      "authorship_tag": "ABX9TyOYca7MZUuIZ23YefVKj/RW",
      "include_colab_link": true
    },
    "kernelspec": {
      "name": "python3",
      "display_name": "Python 3"
    },
    "language_info": {
      "name": "python"
    },
    "accelerator": "GPU"
  },
  "cells": [
    {
      "cell_type": "markdown",
      "metadata": {
        "id": "view-in-github",
        "colab_type": "text"
      },
      "source": [
        "<a href=\"https://colab.research.google.com/github/olhaishchenko/-data_science/blob/master/HW_10_2.ipynb\" target=\"_parent\"><img src=\"https://colab.research.google.com/assets/colab-badge.svg\" alt=\"Open In Colab\"/></a>"
      ]
    },
    {
      "cell_type": "code",
      "execution_count": 1,
      "metadata": {
        "id": "yrvAlZ9dZ0If"
      },
      "outputs": [],
      "source": [
        "import math\n",
        "import os\n",
        "import random\n",
        "from PIL import Image\n",
        "\n",
        "import numpy as np\n",
        "import pandas as pd\n",
        "import cv2\n",
        "\n",
        "import matplotlib.pyplot as plt\n",
        "import seaborn as sn\n",
        "import tensorflow as tf\n",
        "from sklearn.model_selection import train_test_split\n",
        "from keras.datasets import fashion_mnist\n",
        "from tensorflow.keras.callbacks import EarlyStopping, ModelCheckpoint\n",
        "from tensorflow.keras.layers import Dense, Dropout, MaxPooling2D, Conv2D, Flatten\n",
        "from tensorflow.keras.models import Sequential, Model\n",
        "from tensorflow.keras.metrics import CategoricalAccuracy\n",
        "import albumentations as A\n"
      ]
    },
    {
      "cell_type": "code",
      "source": [
        "def set_seed(seed_value):\n",
        "    random.seed(seed_value)\n",
        "    np.random.seed(seed_value)\n",
        "    tf.random.set_seed(seed_value)\n",
        "    os.environ[\"PYTHONHASHSEED\"] = str(seed_value)\n",
        "    os.environ[\"TF_DETERMINISTIC_OPS\"] = \"true\"\n",
        "\n",
        "\n",
        "set_seed(42)"
      ],
      "metadata": {
        "id": "edd4r07zO4M0"
      },
      "execution_count": 2,
      "outputs": []
    },
    {
      "cell_type": "code",
      "source": [
        "num_classes = 10\n",
        "lr = 0.001\n",
        "n_epochs = 20\n",
        "batch_size = 256"
      ],
      "metadata": {
        "id": "bPJj_q1hZ63Z"
      },
      "execution_count": 3,
      "outputs": []
    },
    {
      "cell_type": "code",
      "source": [
        "\n",
        "label = \\\n",
        "{\n",
        "    0:\"T-shirt/top\",\n",
        "    1:\"Trouser\",\n",
        "    2:\"Pullover\",\n",
        "    3:\"Dress\",\n",
        "    4:\"Coat\",\n",
        "    5:\"Sandal\",\n",
        "    6:\"Shirt\",\n",
        "    7:\"Sneaker\",\n",
        "    8:\"Bag\",\n",
        "    9:\"Ankle boot\",\n",
        "}\n"
      ],
      "metadata": {
        "id": "tyqoM8XUabxj"
      },
      "execution_count": 4,
      "outputs": []
    },
    {
      "cell_type": "markdown",
      "source": [
        "# **Частина 2**\n",
        "В цій частині ми знову будемо працювати з датасетом fasion_mnist.\n",
        "\n",
        "На відміну від попереднього завдання вам пропонується створити згорткову нейромережу, що використовує VGG16 в якості згорткової основи.\n",
        "\n",
        "Навчіть отриману мережу на даних із датасету fasion_mnist. Спробуйте досягти максимально можливої точності класифікації за рахунок маніпуляції параметрами мережі. Під час навчання використовуйте прийоми донавчання та виділення ознак.\n",
        "\n",
        "Порівняйте точність отриманої згорткової мережі з точністю багатошарової мережі з попереднього завдання. Зробіть висновки."
      ],
      "metadata": {
        "id": "QqUqOjvmH6_O"
      }
    },
    {
      "cell_type": "code",
      "source": [
        "# Загружаем датасет\n",
        "(x_train, y_train), (x_test_vgg16, y_test_vgg16) = fashion_mnist.load_data()"
      ],
      "metadata": {
        "id": "HS8HjY1yTmDT",
        "colab": {
          "base_uri": "https://localhost:8080/"
        },
        "outputId": "46ea234b-e3d5-41ef-84eb-ae814ec5353b"
      },
      "execution_count": 5,
      "outputs": [
        {
          "output_type": "stream",
          "name": "stdout",
          "text": [
            "Downloading data from https://storage.googleapis.com/tensorflow/tf-keras-datasets/train-labels-idx1-ubyte.gz\n",
            "29515/29515 [==============================] - 0s 0us/step\n",
            "Downloading data from https://storage.googleapis.com/tensorflow/tf-keras-datasets/train-images-idx3-ubyte.gz\n",
            "26421880/26421880 [==============================] - 0s 0us/step\n",
            "Downloading data from https://storage.googleapis.com/tensorflow/tf-keras-datasets/t10k-labels-idx1-ubyte.gz\n",
            "5148/5148 [==============================] - 0s 0us/step\n",
            "Downloading data from https://storage.googleapis.com/tensorflow/tf-keras-datasets/t10k-images-idx3-ubyte.gz\n",
            "4422102/4422102 [==============================] - 0s 0us/step\n"
          ]
        }
      ]
    },
    {
      "cell_type": "code",
      "source": [
        "x_train_part_vgg16, x_valid_vgg16, y_train_part_vgg16, y_valid_vgg16 = train_test_split(x_train, y_train, test_size=0.2, shuffle=True)"
      ],
      "metadata": {
        "id": "CTncBKPOTsXA"
      },
      "execution_count": 6,
      "outputs": []
    },
    {
      "cell_type": "code",
      "source": [
        "\n",
        "x_train_part_vgg16.shape, y_train_part_vgg16.shape"
      ],
      "metadata": {
        "colab": {
          "base_uri": "https://localhost:8080/"
        },
        "id": "5gUs3IefjAnD",
        "outputId": "e218b84f-ba6c-460b-badb-3a25c7e10819"
      },
      "execution_count": null,
      "outputs": [
        {
          "output_type": "execute_result",
          "data": {
            "text/plain": [
              "((48000, 28, 28), (48000,))"
            ]
          },
          "metadata": {},
          "execution_count": 61
        }
      ]
    },
    {
      "cell_type": "code",
      "source": [
        "idx_sample = 105\n",
        "plt.imshow(x_train_part_vgg16[idx_sample], cmap=\"gray\")\n",
        "# x_train_part_vgg16\n",
        "print(label[y_train_part_vgg16[idx_sample]], x_train_part_vgg16[idx_sample].shape)"
      ],
      "metadata": {
        "colab": {
          "base_uri": "https://localhost:8080/",
          "height": 448
        },
        "id": "_enY7eohUw8O",
        "outputId": "8331444c-692b-4792-9e3e-15c98917daad"
      },
      "execution_count": null,
      "outputs": [
        {
          "output_type": "stream",
          "name": "stdout",
          "text": [
            "Trouser (28, 28)\n"
          ]
        },
        {
          "output_type": "display_data",
          "data": {
            "text/plain": [
              "<Figure size 640x480 with 1 Axes>"
            ],
            "image/png": "[encoded data removed]"
          },
          "metadata": {}
        }
      ]
    },
    {
      "cell_type": "code",
      "source": [
        "\n",
        "from PIL import Image\n",
        "\n",
        "class Dataset(tf.keras.utils.Sequence):\n",
        "    def __init__(self, x, y, shuffle=True, batch_size=256, transforms=None):\n",
        "        self.x = x\n",
        "        self.y = y\n",
        "        self.shuffle = shuffle\n",
        "        self.indexes = np.arange(len(self.x))\n",
        "        self.batch_size = batch_size\n",
        "        self.transforms = transforms\n",
        "\n",
        "        if shuffle:\n",
        "            self.on_epoch_end()\n",
        "\n",
        "    def __len__(self):\n",
        "        return len(self.indexes) // self.batch_size\n",
        "\n",
        "    def __getitem__(self, n):\n",
        "        indexes = self.indexes[n * self.batch_size : (n + 1) * self.batch_size]\n",
        "        batch_y = tf.keras.utils.to_categorical(self.y[indexes], num_classes)\n",
        "        batch_X = []\n",
        "          #  конвертує вхідні зображення у форматі NumPy у формат RGB\n",
        "        for i in indexes:\n",
        "            img = np.asarray(Image.fromarray(np.uint8(self.x[i])).convert('RGB'))\n",
        "\n",
        "            if self.transforms:\n",
        "                img = self.transforms(image=img)[\"image\"]\n",
        "\n",
        "            batch_X.append(img)\n",
        "\n",
        "        return np.array(batch_X)/255., batch_y\n",
        "\n",
        "    def on_epoch_end(self):\n",
        "        if self.shuffle:\n",
        "            np.random.shuffle(self.indexes)"
      ],
      "metadata": {
        "id": "d03kVME_TsM0"
      },
      "execution_count": 7,
      "outputs": []
    },
    {
      "cell_type": "code",
      "source": [
        "train_transforms = A.Compose(\n",
        "    [\n",
        "        A.HorizontalFlip(p=0.5),\n",
        "        A.Rotate(limit=45, p=0.5),\n",
        "        A.Blur(p=0.3),\n",
        "        A.Resize(224, 224, p=1.),\n",
        "    ]\n",
        ")\n",
        "\n",
        "valid_transforms = A.Compose(\n",
        "    [\n",
        "        A.Resize(224, 224, p=1.),\n",
        "    ]\n",
        ")"
      ],
      "metadata": {
        "id": "QjdPhOTS8CMp"
      },
      "execution_count": 8,
      "outputs": []
    },
    {
      "cell_type": "code",
      "source": [
        "train_dataset_vgg = Dataset(x_train_part_vgg16, y_train_part_vgg16, shuffle=True, batch_size=batch_size, transforms=train_transforms)\n",
        "valid_dataset_vgg = Dataset(x_valid_vgg16, y_valid_vgg16, shuffle=False, batch_size=batch_size, transforms=valid_transforms)\n",
        "test_dataset_vgg = Dataset(x_test_vgg16, y_test_vgg16, shuffle=False, batch_size=16, transforms=valid_transforms)\n"
      ],
      "metadata": {
        "id": "Sw1OWIp8Y-Bm"
      },
      "execution_count": 9,
      "outputs": []
    },
    {
      "cell_type": "code",
      "source": [
        "X, y = train_dataset_vgg[0]\n",
        "X.shape, y.shape"
      ],
      "metadata": {
        "id": "-bW3GYTgb7nn",
        "colab": {
          "base_uri": "https://localhost:8080/"
        },
        "outputId": "64361e9b-2673-4891-9bb7-dc79fb63c736"
      },
      "execution_count": 10,
      "outputs": [
        {
          "output_type": "execute_result",
          "data": {
            "text/plain": [
              "((256, 224, 224, 3), (256, 10))"
            ]
          },
          "metadata": {},
          "execution_count": 10
        }
      ]
    },
    {
      "cell_type": "code",
      "source": [
        "from tensorflow.keras.applications import vgg16\n",
        "\n",
        "base_model = vgg16.VGG16(input_shape=(224, 224, 3), include_top=False)\n",
        "base_model.trainable = False\n",
        "\n",
        "model_vgg16 = Sequential(\n",
        "    [\n",
        "        base_model,\n",
        "        # GlobalAveragePooling2D(),\n",
        "        Flatten(),\n",
        "        Dense(512, activation=\"relu\"),\n",
        "        Dense(10, activation=\"softmax\"),\n",
        "    ]\n",
        ")"
      ],
      "metadata": {
        "id": "N8kKlkobYk0I",
        "colab": {
          "base_uri": "https://localhost:8080/"
        },
        "outputId": "e2e85e07-5d5a-4d99-b218-d204d775d0d2"
      },
      "execution_count": 11,
      "outputs": [
        {
          "output_type": "stream",
          "name": "stdout",
          "text": [
            "Downloading data from https://storage.googleapis.com/tensorflow/keras-applications/vgg16/vgg16_weights_tf_dim_ordering_tf_kernels_notop.h5\n",
            "58889256/58889256 [==============================] - 0s 0us/step\n"
          ]
        }
      ]
    },
    {
      "cell_type": "code",
      "source": [
        "model_vgg16.summary()"
      ],
      "metadata": {
        "id": "vNiWkYBMbmdf",
        "colab": {
          "base_uri": "https://localhost:8080/"
        },
        "outputId": "98a29827-cd10-4b6c-ab87-5514c52784ca"
      },
      "execution_count": 12,
      "outputs": [
        {
          "output_type": "stream",
          "name": "stdout",
          "text": [
            "Model: \"sequential\"\n",
            "_________________________________________________________________\n",
            " Layer (type)                Output Shape              Param #   \n",
            "=================================================================\n",
            " vgg16 (Functional)          (None, 7, 7, 512)         14714688  \n",
            "                                                                 \n",
            " flatten (Flatten)           (None, 25088)             0         \n",
            "                                                                 \n",
            " dense (Dense)               (None, 512)               12845568  \n",
            "                                                                 \n",
            " dense_1 (Dense)             (None, 10)                5130      \n",
            "                                                                 \n",
            "=================================================================\n",
            "Total params: 27,565,386\n",
            "Trainable params: 12,850,698\n",
            "Non-trainable params: 14,714,688\n",
            "_________________________________________________________________\n"
          ]
        }
      ]
    },
    {
      "cell_type": "code",
      "source": [
        "model_vgg16.compile(\n",
        "    loss=\"categorical_crossentropy\",\n",
        "    optimizer=tf.keras.optimizers.RMSprop(learning_rate=2e-5),\n",
        "    metrics=[CategoricalAccuracy()],\n",
        ")"
      ],
      "metadata": {
        "id": "ru9NUK27aLq5"
      },
      "execution_count": 13,
      "outputs": []
    },
    {
      "cell_type": "code",
      "source": [
        "callback_early_stopping = EarlyStopping(\n",
        "    monitor=\"val_loss\",\n",
        "    patience=2,\n",
        "    verbose=1\n",
        ")\n",
        "\n",
        "\n",
        "callback_save = ModelCheckpoint(\n",
        "    \"best_vgg.hdf5\",\n",
        "    monitor=\"val_loss\",\n",
        "    save_best_only=True,\n",
        "    verbose=1\n",
        ")"
      ],
      "metadata": {
        "id": "rGY4jDm6bNIN"
      },
      "execution_count": 14,
      "outputs": []
    },
    {
      "cell_type": "code",
      "source": [
        "history = model_vgg16.fit(\n",
        "    train_dataset_vgg,\n",
        "    validation_data=valid_dataset_vgg,\n",
        "    epochs=n_epochs,\n",
        "    verbose=1,\n",
        "    callbacks=[callback_early_stopping, callback_save]\n",
        ")"
      ],
      "metadata": {
        "id": "l_vqUd1cbQBj",
        "colab": {
          "base_uri": "https://localhost:8080/"
        },
        "outputId": "178aefe9-3552-441e-f1ac-561ce16f6b80"
      },
      "execution_count": 15,
      "outputs": [
        {
          "output_type": "stream",
          "name": "stdout",
          "text": [
            "Epoch 1/20\n",
            "188/188 [==============================] - ETA: 0s - loss: 1.2525 - categorical_accuracy: 0.6115\n",
            "Epoch 1: val_loss improved from inf to 0.52871, saving model to best_vgg.hdf5\n",
            "188/188 [==============================] - 522s 3s/step - loss: 1.2525 - categorical_accuracy: 0.6115 - val_loss: 0.5287 - val_categorical_accuracy: 0.8244\n",
            "Epoch 2/20\n",
            "188/188 [==============================] - ETA: 0s - loss: 0.8513 - categorical_accuracy: 0.7251\n",
            "Epoch 2: val_loss improved from 0.52871 to 0.43671, saving model to best_vgg.hdf5\n",
            "188/188 [==============================] - 465s 2s/step - loss: 0.8513 - categorical_accuracy: 0.7251 - val_loss: 0.4367 - val_categorical_accuracy: 0.8472\n",
            "Epoch 3/20\n",
            "188/188 [==============================] - ETA: 0s - loss: 0.7479 - categorical_accuracy: 0.7540\n",
            "Epoch 3: val_loss improved from 0.43671 to 0.40959, saving model to best_vgg.hdf5\n",
            "188/188 [==============================] - 515s 3s/step - loss: 0.7479 - categorical_accuracy: 0.7540 - val_loss: 0.4096 - val_categorical_accuracy: 0.8532\n",
            "Epoch 4/20\n",
            "188/188 [==============================] - ETA: 0s - loss: 0.6947 - categorical_accuracy: 0.7684\n",
            "Epoch 4: val_loss improved from 0.40959 to 0.38594, saving model to best_vgg.hdf5\n",
            "188/188 [==============================] - 513s 3s/step - loss: 0.6947 - categorical_accuracy: 0.7684 - val_loss: 0.3859 - val_categorical_accuracy: 0.8608\n",
            "Epoch 5/20\n",
            "188/188 [==============================] - ETA: 0s - loss: 0.6578 - categorical_accuracy: 0.7798\n",
            "Epoch 5: val_loss improved from 0.38594 to 0.36140, saving model to best_vgg.hdf5\n",
            "188/188 [==============================] - 500s 3s/step - loss: 0.6578 - categorical_accuracy: 0.7798 - val_loss: 0.3614 - val_categorical_accuracy: 0.8672\n",
            "Epoch 6/20\n",
            "188/188 [==============================] - ETA: 0s - loss: 0.6253 - categorical_accuracy: 0.7896\n",
            "Epoch 6: val_loss improved from 0.36140 to 0.36005, saving model to best_vgg.hdf5\n",
            "188/188 [==============================] - 452s 2s/step - loss: 0.6253 - categorical_accuracy: 0.7896 - val_loss: 0.3600 - val_categorical_accuracy: 0.8686\n",
            "Epoch 7/20\n",
            "188/188 [==============================] - ETA: 0s - loss: 0.6053 - categorical_accuracy: 0.7976\n",
            "Epoch 7: val_loss improved from 0.36005 to 0.35158, saving model to best_vgg.hdf5\n",
            "188/188 [==============================] - 510s 3s/step - loss: 0.6053 - categorical_accuracy: 0.7976 - val_loss: 0.3516 - val_categorical_accuracy: 0.8717\n",
            "Epoch 8/20\n",
            "188/188 [==============================] - ETA: 0s - loss: 0.5867 - categorical_accuracy: 0.8030\n",
            "Epoch 8: val_loss improved from 0.35158 to 0.33453, saving model to best_vgg.hdf5\n",
            "188/188 [==============================] - 458s 2s/step - loss: 0.5867 - categorical_accuracy: 0.8030 - val_loss: 0.3345 - val_categorical_accuracy: 0.8757\n",
            "Epoch 9/20\n",
            "188/188 [==============================] - ETA: 0s - loss: 0.5699 - categorical_accuracy: 0.8052\n",
            "Epoch 9: val_loss improved from 0.33453 to 0.32491, saving model to best_vgg.hdf5\n",
            "188/188 [==============================] - 464s 2s/step - loss: 0.5699 - categorical_accuracy: 0.8052 - val_loss: 0.3249 - val_categorical_accuracy: 0.8809\n",
            "Epoch 10/20\n",
            "188/188 [==============================] - ETA: 0s - loss: 0.5559 - categorical_accuracy: 0.8110\n",
            "Epoch 10: val_loss improved from 0.32491 to 0.32105, saving model to best_vgg.hdf5\n",
            "188/188 [==============================] - 462s 2s/step - loss: 0.5559 - categorical_accuracy: 0.8110 - val_loss: 0.3211 - val_categorical_accuracy: 0.8813\n",
            "Epoch 11/20\n",
            "188/188 [==============================] - ETA: 0s - loss: 0.5491 - categorical_accuracy: 0.8128\n",
            "Epoch 11: val_loss improved from 0.32105 to 0.31747, saving model to best_vgg.hdf5\n",
            "188/188 [==============================] - 463s 2s/step - loss: 0.5491 - categorical_accuracy: 0.8128 - val_loss: 0.3175 - val_categorical_accuracy: 0.8830\n",
            "Epoch 12/20\n",
            "188/188 [==============================] - ETA: 0s - loss: 0.5342 - categorical_accuracy: 0.8169\n",
            "Epoch 12: val_loss did not improve from 0.31747\n",
            "188/188 [==============================] - 509s 3s/step - loss: 0.5342 - categorical_accuracy: 0.8169 - val_loss: 0.3244 - val_categorical_accuracy: 0.8784\n",
            "Epoch 13/20\n",
            "188/188 [==============================] - ETA: 0s - loss: 0.5247 - categorical_accuracy: 0.8208\n",
            "Epoch 13: val_loss did not improve from 0.31747\n",
            "188/188 [==============================] - 445s 2s/step - loss: 0.5247 - categorical_accuracy: 0.8208 - val_loss: 0.3200 - val_categorical_accuracy: 0.8803\n",
            "Epoch 13: early stopping\n"
          ]
        }
      ]
    },
    {
      "cell_type": "code",
      "source": [
        "model_vgg16.save_weights(\"my_model_vgg16.hdf5\")"
      ],
      "metadata": {
        "id": "-26H97gCndMq"
      },
      "execution_count": 16,
      "outputs": []
    },
    {
      "cell_type": "code",
      "source": [
        "plt.plot(history.history[\"loss\"], label=\"train loss\")\n",
        "plt.plot(history.history[\"val_loss\"], label=\"valid loss\")\n",
        "plt.legend()\n",
        "plt.grid()"
      ],
      "metadata": {
        "colab": {
          "base_uri": "https://localhost:8080/",
          "height": 430
        },
        "id": "Oxlqv3t4nhzI",
        "outputId": "d062327f-56ae-4b79-bd1f-a62f77908a44"
      },
      "execution_count": 17,
      "outputs": [
        {
          "output_type": "display_data",
          "data": {
            "text/plain": [
              "<Figure size 640x480 with 1 Axes>"
            ],
            "image/png": "[encoded data removed]"
          },
          "metadata": {}
        }
      ]
    },
    {
      "cell_type": "code",
      "source": [
        "plt.plot(history.history[\"categorical_accuracy\"], label=\"train loss\")\n",
        "plt.plot(history.history[\"val_categorical_accuracy\"], label=\"valid loss\")\n",
        "plt.legend()\n",
        "plt.grid()"
      ],
      "metadata": {
        "colab": {
          "base_uri": "https://localhost:8080/",
          "height": 430
        },
        "id": "mV0S2V5Bnkd0",
        "outputId": "ba82706b-136c-4393-d7be-92fd663799a6"
      },
      "execution_count": 18,
      "outputs": [
        {
          "output_type": "display_data",
          "data": {
            "text/plain": [
              "<Figure size 640x480 with 1 Axes>"
            ],
            "image/png": "[encoded data removed]"
          },
          "metadata": {}
        }
      ]
    },
    {
      "cell_type": "code",
      "source": [
        "# test_out_vgg = model_vgg16(x_test_vgg16).numpy()\n",
        "\n",
        "best_model_vgg = tf.keras.saving.load_model(\"best_vgg.hdf5\")\n",
        "test_out = []\n",
        "\n",
        "for x, y in test_dataset_vgg:\n",
        "    test_out.extend(best_model_vgg(x).numpy())\n",
        "print(len(test_out))\n",
        "\n",
        "test_out_vgg = np.array(test_out)\n",
        "test_out_vgg.shape"
      ],
      "metadata": {
        "colab": {
          "base_uri": "https://localhost:8080/"
        },
        "id": "dAsqMnetnran",
        "outputId": "651afdf0-086c-4d07-fe6a-e588a3162771"
      },
      "execution_count": 20,
      "outputs": [
        {
          "output_type": "stream",
          "name": "stdout",
          "text": [
            "10000\n"
          ]
        },
        {
          "output_type": "execute_result",
          "data": {
            "text/plain": [
              "(10000, 10)"
            ]
          },
          "metadata": {},
          "execution_count": 20
        }
      ]
    },
    {
      "cell_type": "code",
      "source": [
        "accuracy_test = np.mean(test_out_vgg.argmax(axis=1) == y_test_vgg16)\n",
        "print(f\"Accuracy test data: {accuracy_test.round(5)}\" )"
      ],
      "metadata": {
        "colab": {
          "base_uri": "https://localhost:8080/"
        },
        "id": "_FoYcXkOnt0u",
        "outputId": "541094b6-c136-4c94-9811-53946ae971c0"
      },
      "execution_count": 21,
      "outputs": [
        {
          "output_type": "stream",
          "name": "stdout",
          "text": [
            "Accuracy test data: 0.8822\n"
          ]
        }
      ]
    }
  ]
}