{
  "nbformat": 4,
  "nbformat_minor": 0,
  "metadata": {
    "colab": {
      "provenance": [],
      "authorship_tag": "ABX9TyNfL6EPkiZl8qWtRDEvqVrm",
      "include_colab_link": true
    },
    "kernelspec": {
      "name": "python3",
      "display_name": "Python 3"
    },
    "language_info": {
      "name": "python"
    }
  },
  "cells": [
    {
      "cell_type": "markdown",
      "metadata": {
        "id": "view-in-github",
        "colab_type": "text"
      },
      "source": [
        "<a href=\"https://colab.research.google.com/github/olhaishchenko/-data_science/blob/master/H_W_7.ipynb\" target=\"_parent\"><img src=\"https://colab.research.google.com/assets/colab-badge.svg\" alt=\"Open In Colab\"/></a>"
      ]
    },
    {
      "cell_type": "code",
      "execution_count": null,
      "metadata": {
        "colab": {
          "base_uri": "https://localhost:8080/"
        },
        "id": "KzDvzhVpLGBN",
        "outputId": "99f90ead-32f6-41a6-b823-b6c7fc06d040"
      },
      "outputs": [
        {
          "output_type": "stream",
          "name": "stdout",
          "text": [
            "Collecting scikit-surprise\n",
            "  Downloading scikit-surprise-1.1.3.tar.gz (771 kB)\n",
            "\u001b[2K     \u001b[90m━━━━━━━━━━━━━━━━━━━━━━━━━━━━━━━━━━━━━━━\u001b[0m \u001b[32m772.0/772.0 kB\u001b[0m \u001b[31m5.8 MB/s\u001b[0m eta \u001b[36m0:00:00\u001b[0m\n",
            "\u001b[?25h  Preparing metadata (setup.py) ... \u001b[?25l\u001b[?25hdone\n",
            "Requirement already satisfied: joblib>=1.0.0 in /usr/local/lib/python3.10/dist-packages (from scikit-surprise) (1.3.1)\n",
            "Requirement already satisfied: numpy>=1.17.3 in /usr/local/lib/python3.10/dist-packages (from scikit-surprise) (1.22.4)\n",
            "Requirement already satisfied: scipy>=1.3.2 in /usr/local/lib/python3.10/dist-packages (from scikit-surprise) (1.10.1)\n",
            "Building wheels for collected packages: scikit-surprise\n",
            "  Building wheel for scikit-surprise (setup.py) ... \u001b[?25l\u001b[?25hdone\n",
            "  Created wheel for scikit-surprise: filename=scikit_surprise-1.1.3-cp310-cp310-linux_x86_64.whl size=2811631 sha256=71c7897b3b300778b8ade774854794f500fa237b104ac5f4443418ca1932b67b\n",
            "  Stored in directory: /root/.cache/pip/wheels/a5/ca/a8/4e28def53797fdc4363ca4af740db15a9c2f1595ebc51fb445\n",
            "Successfully built scikit-surprise\n",
            "Installing collected packages: scikit-surprise\n",
            "Successfully installed scikit-surprise-1.1.3\n"
          ]
        }
      ],
      "source": [
        "pip install scikit-surprise"
      ]
    },
    {
      "cell_type": "code",
      "source": [
        "import pandas as pd\n",
        "\n",
        "from surprise import Dataset, SVD, NMF, SVDpp, KNNBasic\n",
        "from collections import defaultdict\n",
        "from surprise.model_selection import train_test_split, cross_validate, GridSearchCV"
      ],
      "metadata": {
        "id": "D5Lt8sNWLNS4"
      },
      "execution_count": null,
      "outputs": []
    },
    {
      "cell_type": "code",
      "source": [
        "data = Dataset.load_builtin(\"ml-100k\")"
      ],
      "metadata": {
        "id": "7DePwyFPL48a"
      },
      "execution_count": null,
      "outputs": []
    },
    {
      "cell_type": "code",
      "source": [
        "trainset, testset = train_test_split(data, test_size=0.05)#test_size=0.05??"
      ],
      "metadata": {
        "id": "sbS8BIRnMpc5"
      },
      "execution_count": null,
      "outputs": []
    },
    {
      "cell_type": "code",
      "source": [],
      "metadata": {
        "id": "mC87IsXpxpVk"
      },
      "execution_count": null,
      "outputs": []
    },
    {
      "cell_type": "code",
      "source": [
        "param_grid = {\"n_epochs\": [5, 10], \"lr_all\": [0.002, 0.005], \"reg_all\": [0.4, 0.6]}\n",
        "gs = GridSearchCV(SVD, param_grid, measures=[\"rmse\", \"mae\"], cv=3)\n",
        "\n",
        "gs.fit(data)\n",
        "\n",
        "# best RMSE score\n",
        "print(gs.best_score[\"rmse\"])\n",
        "\n",
        "# combination of parameters that gave the best RMSE score\n",
        "print(gs.best_params[\"rmse\"])"
      ],
      "metadata": {
        "colab": {
          "base_uri": "https://localhost:8080/"
        },
        "id": "JeDKXmQPnkxp",
        "outputId": "05d05b29-25e4-49a8-8027-56d2c1429a44"
      },
      "execution_count": null,
      "outputs": [
        {
          "output_type": "stream",
          "name": "stdout",
          "text": [
            "0.9634763122313922\n",
            "{'n_epochs': 10, 'lr_all': 0.005, 'reg_all': 0.4}\n"
          ]
        }
      ]
    },
    {
      "cell_type": "code",
      "source": [
        "algo_svd = SVD(n_epochs=10, lr_all=0.005, reg_all=0.4, random_state=0)\n",
        "# Run 5-fold cross-validation and print results.\n",
        "print(f\"cross_val_SVD\")\n",
        "cross_validate(algo_svd, data, measures=['RMSE', 'MAE'], cv=5, verbose=True)"
      ],
      "metadata": {
        "colab": {
          "base_uri": "https://localhost:8080/"
        },
        "id": "b7YaZxYjsJAH",
        "outputId": "541fe142-4589-4194-98d1-74652a8f957a"
      },
      "execution_count": null,
      "outputs": [
        {
          "output_type": "stream",
          "name": "stdout",
          "text": [
            "cross_val_SVD\n",
            "Evaluating RMSE, MAE of algorithm SVD on 5 split(s).\n",
            "\n",
            "                  Fold 1  Fold 2  Fold 3  Fold 4  Fold 5  Mean    Std     \n",
            "RMSE (testset)    0.9600  0.9683  0.9525  0.9667  0.9589  0.9613  0.0057  \n",
            "MAE (testset)     0.7695  0.7793  0.7594  0.7752  0.7691  0.7705  0.0067  \n",
            "Fit time          0.70    0.87    0.69    0.99    0.94    0.84    0.12    \n",
            "Test time         0.16    0.20    0.16    0.26    0.16    0.19    0.04    \n"
          ]
        },
        {
          "output_type": "execute_result",
          "data": {
            "text/plain": [
              "{'test_rmse': array([0.96003595, 0.96829748, 0.95251132, 0.96674872, 0.95893905]),\n",
              " 'test_mae': array([0.7694649 , 0.77933139, 0.75942296, 0.77522629, 0.76907737]),\n",
              " 'fit_time': (0.7003955841064453,\n",
              "  0.8724386692047119,\n",
              "  0.6948111057281494,\n",
              "  0.9919626712799072,\n",
              "  0.9385859966278076),\n",
              " 'test_time': (0.15776395797729492,\n",
              "  0.19711661338806152,\n",
              "  0.1637401580810547,\n",
              "  0.25684547424316406,\n",
              "  0.15615534782409668)}"
            ]
          },
          "metadata": {},
          "execution_count": 98
        }
      ]
    },
    {
      "cell_type": "code",
      "source": [
        "algo_knn = KNNBasic(k=200)\n",
        "print(f\"cross_val_KNN\")\n",
        "cross_validate(algo_knn, data, measures=['RMSE', 'MAE'], cv=5, verbose=True)"
      ],
      "metadata": {
        "colab": {
          "base_uri": "https://localhost:8080/"
        },
        "id": "zSCrgsHcqGJ7",
        "outputId": "da8e4fc4-e4e0-4125-e52b-a04ec838b939"
      },
      "execution_count": null,
      "outputs": [
        {
          "output_type": "stream",
          "name": "stdout",
          "text": [
            "cross_val_KNN\n",
            "Computing the msd similarity matrix...\n",
            "Done computing similarity matrix.\n",
            "Computing the msd similarity matrix...\n",
            "Done computing similarity matrix.\n",
            "Computing the msd similarity matrix...\n",
            "Done computing similarity matrix.\n",
            "Computing the msd similarity matrix...\n",
            "Done computing similarity matrix.\n",
            "Computing the msd similarity matrix...\n",
            "Done computing similarity matrix.\n",
            "Evaluating RMSE, MAE of algorithm KNNBasic on 5 split(s).\n",
            "\n",
            "                  Fold 1  Fold 2  Fold 3  Fold 4  Fold 5  Mean    Std     \n",
            "RMSE (testset)    1.0136  0.9995  1.0070  0.9942  0.9969  1.0023  0.0071  \n",
            "MAE (testset)     0.8057  0.7930  0.7996  0.7901  0.7908  0.7959  0.0060  \n",
            "Fit time          0.47    0.38    0.72    0.35    0.65    0.51    0.15    \n",
            "Test time         4.58    5.24    4.66    4.54    5.38    4.88    0.36    \n"
          ]
        },
        {
          "output_type": "execute_result",
          "data": {
            "text/plain": [
              "{'test_rmse': array([1.0136086 , 0.99954258, 1.007048  , 0.99418046, 0.99688217]),\n",
              " 'test_mae': array([0.80574879, 0.79303753, 0.79963131, 0.79011902, 0.79084317]),\n",
              " 'fit_time': (0.4729151725769043,\n",
              "  0.3803389072418213,\n",
              "  0.7216660976409912,\n",
              "  0.34561872482299805,\n",
              "  0.6537837982177734),\n",
              " 'test_time': (4.579036235809326,\n",
              "  5.240965843200684,\n",
              "  4.659076690673828,\n",
              "  4.537182807922363,\n",
              "  5.375331401824951)}"
            ]
          },
          "metadata": {},
          "execution_count": 99
        }
      ]
    },
    {
      "cell_type": "code",
      "source": [
        "param_grid = {\"n_epochs\": [25, 40, 50], \"biased\": [True, False], \"n_factors\": [5, 10, 15]}\n",
        "gs = GridSearchCV(NMF, param_grid, measures=[\"rmse\", \"mae\"], cv=3)\n",
        "\n",
        "gs.fit(data)\n",
        "\n",
        "# best RMSE score\n",
        "print(gs.best_score[\"rmse\"])\n",
        "\n",
        "# combination of parameters that gave the best RMSE score\n",
        "print(gs.best_params[\"rmse\"])"
      ],
      "metadata": {
        "colab": {
          "base_uri": "https://localhost:8080/"
        },
        "id": "wFWJj4MTquI5",
        "outputId": "dfb34a3e-90a1-4e80-8723-231809739e7f"
      },
      "execution_count": null,
      "outputs": [
        {
          "output_type": "stream",
          "name": "stdout",
          "text": [
            "0.9404781008612515\n",
            "{'n_epochs': 50, 'biased': True, 'n_factors': 5}\n"
          ]
        }
      ]
    },
    {
      "cell_type": "code",
      "source": [
        "algo_nmf = NMF(random_state=0)\n",
        "print(f\"cross_val_NMF\")\n",
        "cross_validate(algo_nmf, data, measures=['RMSE', 'MAE'], cv=5, verbose=True)"
      ],
      "metadata": {
        "colab": {
          "base_uri": "https://localhost:8080/"
        },
        "id": "aPy-c2J4m0Z0",
        "outputId": "315ce23a-7f91-4d7b-d4a6-16f95bf1017c"
      },
      "execution_count": null,
      "outputs": [
        {
          "output_type": "stream",
          "name": "stdout",
          "text": [
            "cross_val_NMF\n",
            "Evaluating RMSE, MAE of algorithm NMF on 5 split(s).\n",
            "\n",
            "                  Fold 1  Fold 2  Fold 3  Fold 4  Fold 5  Mean    Std     \n",
            "RMSE (testset)    0.9652  0.9543  0.9660  0.9566  0.9590  0.9602  0.0047  \n",
            "MAE (testset)     0.7610  0.7503  0.7600  0.7511  0.7529  0.7551  0.0045  \n",
            "Fit time          2.25    2.84    3.69    2.44    2.25    2.69    0.54    \n",
            "Test time         0.19    0.17    0.14    0.20    0.13    0.17    0.03    \n"
          ]
        },
        {
          "output_type": "execute_result",
          "data": {
            "text/plain": [
              "{'test_rmse': array([0.96524969, 0.95429236, 0.96598725, 0.95655108, 0.95903996]),\n",
              " 'test_mae': array([0.76102528, 0.75034688, 0.75995745, 0.75110625, 0.7529019 ]),\n",
              " 'fit_time': (2.2471985816955566,\n",
              "  2.8438963890075684,\n",
              "  3.692803382873535,\n",
              "  2.444042921066284,\n",
              "  2.2467780113220215),\n",
              " 'test_time': (0.18850255012512207,\n",
              "  0.1721055507659912,\n",
              "  0.13794350624084473,\n",
              "  0.20195960998535156,\n",
              "  0.13450169563293457)}"
            ]
          },
          "metadata": {},
          "execution_count": 100
        }
      ]
    },
    {
      "cell_type": "code",
      "source": [
        "param_grid = {\"n_epochs\": [10, 20], \"init_std_dev\": [0.1, 0.05], \"n_factors\": [5, 10, 20]}\n",
        "gs = GridSearchCV(SVDpp, param_grid, measures=[\"rmse\", \"mae\"], cv=3)\n",
        "\n",
        "gs.fit(data)\n",
        "\n",
        "# best RMSE score\n",
        "print(gs.best_score[\"rmse\"])\n",
        "\n",
        "# combination of parameters that gave the best RMSE score\n",
        "print(gs.best_params[\"rmse\"])"
      ],
      "metadata": {
        "colab": {
          "base_uri": "https://localhost:8080/"
        },
        "id": "n6Jt6TDOsTOi",
        "outputId": "1d7adb94-17d1-4461-ea66-436a7f4281fd"
      },
      "execution_count": null,
      "outputs": [
        {
          "output_type": "stream",
          "name": "stdout",
          "text": [
            "0.9188746681241698\n",
            "{'n_epochs': 20, 'init_std_dev': 0.05, 'n_factors': 20}\n"
          ]
        }
      ]
    },
    {
      "cell_type": "code",
      "source": [
        "algo_svdpp = SVDpp(init_std_dev=0.05, random_state=0)\n",
        "print(f\"cross_val_SVDpp\")\n",
        "cross_validate(algo_svdpp, data, measures=['RMSE', 'MAE'], cv=5, verbose=True)"
      ],
      "metadata": {
        "colab": {
          "base_uri": "https://localhost:8080/"
        },
        "id": "raY1P2MgnBmw",
        "outputId": "c7545161-fda2-4e29-96f7-637ac2638901"
      },
      "execution_count": null,
      "outputs": [
        {
          "output_type": "stream",
          "name": "stdout",
          "text": [
            "cross_val_SVDpp\n",
            "Evaluating RMSE, MAE of algorithm SVDpp on 5 split(s).\n",
            "\n",
            "                  Fold 1  Fold 2  Fold 3  Fold 4  Fold 5  Mean    Std     \n",
            "RMSE (testset)    0.9109  0.9061  0.9111  0.9121  0.9100  0.9100  0.0021  \n",
            "MAE (testset)     0.7179  0.7135  0.7149  0.7148  0.7126  0.7147  0.0018  \n",
            "Fit time          27.26   27.30   28.05   27.17   27.02   27.36   0.36    \n",
            "Test time         5.68    4.57    5.68    6.05    4.78    5.35    0.57    \n"
          ]
        },
        {
          "output_type": "execute_result",
          "data": {
            "text/plain": [
              "{'test_rmse': array([0.91089612, 0.90608158, 0.91112978, 0.91208725, 0.90996401]),\n",
              " 'test_mae': array([0.7179118 , 0.71345397, 0.71490083, 0.71482557, 0.7126277 ]),\n",
              " 'fit_time': (27.25819730758667,\n",
              "  27.299097299575806,\n",
              "  28.050058603286743,\n",
              "  27.174739837646484,\n",
              "  27.019202709197998),\n",
              " 'test_time': (5.683303117752075,\n",
              "  4.567030191421509,\n",
              "  5.678992509841919,\n",
              "  6.047089338302612,\n",
              "  4.78488826751709)}"
            ]
          },
          "metadata": {},
          "execution_count": 101
        }
      ]
    },
    {
      "cell_type": "markdown",
      "source": [
        "| [Movielens 100k](https://grouplens.org/datasets/movielens/100k)                                                                         |   RMSE |   MAE | Time    |\n",
        "\n",
        "| [SVD](https://surprise.readthedocs.io/en/stable/matrix_factorization.html#surprise.prediction_algorithms.matrix_factorization.SVD)      |  0.934 | 0.737 | 0:00:09 |\n",
        "\n",
        "| [SVD++](https://surprise.readthedocs.io/en/stable/matrix_factorization.html#surprise.prediction_algorithms.matrix_factorization.SVDpp)  |  0.919 | 0.721 | 0:02:46 |\n",
        "\n",
        "| [SVD++](https://surprise.readthedocs.io/en/stable/matrix_factorization.html#surprise.prediction_algorithms.matrix_factorization.SVDpp)  |  0.919 | 0.721 | 0:02:20 |\n",
        "\n",
        "| [NMF](https://surprise.readthedocs.io/en/stable/matrix_factorization.html#surprise.prediction_algorithms.matrix_factorization.NMF)      |  0.963 | 0.758 | 0:00:17 |\n",
        "\n",
        "| [k-NN](https://surprise.readthedocs.io/en/stable/knn_inspired.html#surprise.prediction_algorithms.knns.KNNBasic)                        |  0.98  | 0.774 | 0:00:24 |"
      ],
      "metadata": {
        "id": "XEhBdlNqe5le"
      }
    },
    {
      "cell_type": "code",
      "source": [
        "algo_svd.fit(trainset)"
      ],
      "metadata": {
        "colab": {
          "base_uri": "https://localhost:8080/"
        },
        "id": "OeLP5WMIRJJR",
        "outputId": "60bf9656-4d93-489e-a495-9d3fd596dba4"
      },
      "execution_count": null,
      "outputs": [
        {
          "output_type": "execute_result",
          "data": {
            "text/plain": [
              "<surprise.prediction_algorithms.matrix_factorization.SVD at 0x7f565d3736a0>"
            ]
          },
          "metadata": {},
          "execution_count": 102
        }
      ]
    },
    {
      "cell_type": "code",
      "source": [
        "preds_svd = algo_svd.test(testset)\n",
        "preds_svd[:10]"
      ],
      "metadata": {
        "colab": {
          "base_uri": "https://localhost:8080/"
        },
        "id": "rI9JIrnDyaCj",
        "outputId": "8e73c75a-bcd4-4a77-89d0-fd98a94d7e3f"
      },
      "execution_count": null,
      "outputs": [
        {
          "output_type": "execute_result",
          "data": {
            "text/plain": [
              "[Prediction(uid='416', iid='421', r_ui=5.0, est=3.918256745201451, details={'was_impossible': False}),\n",
              " Prediction(uid='327', iid='475', r_ui=4.0, est=3.5546980497898706, details={'was_impossible': False}),\n",
              " Prediction(uid='6', iid='496', r_ui=4.0, est=3.839293377278706, details={'was_impossible': False}),\n",
              " Prediction(uid='249', iid='300', r_ui=4.0, est=3.9843593762832588, details={'was_impossible': False}),\n",
              " Prediction(uid='6', iid='297', r_ui=3.0, est=3.750256778103611, details={'was_impossible': False}),\n",
              " Prediction(uid='189', iid='657', r_ui=5.0, est=4.247007163422771, details={'was_impossible': False}),\n",
              " Prediction(uid='663', iid='282', r_ui=3.0, est=3.6815938616384436, details={'was_impossible': False}),\n",
              " Prediction(uid='807', iid='1444', r_ui=3.0, est=3.2985414737955603, details={'was_impossible': False}),\n",
              " Prediction(uid='688', iid='749', r_ui=5.0, est=4.194749986071955, details={'was_impossible': False}),\n",
              " Prediction(uid='560', iid='240', r_ui=3.0, est=2.9010727160565994, details={'was_impossible': False})]"
            ]
          },
          "metadata": {},
          "execution_count": 103
        }
      ]
    },
    {
      "cell_type": "code",
      "source": [
        "algo_knn.fit(trainset)"
      ],
      "metadata": {
        "colab": {
          "base_uri": "https://localhost:8080/"
        },
        "id": "IkSOGOPeyxno",
        "outputId": "c2e992c6-a1af-4c9e-9238-e6bca5b69d26"
      },
      "execution_count": null,
      "outputs": [
        {
          "output_type": "stream",
          "name": "stdout",
          "text": [
            "Computing the msd similarity matrix...\n",
            "Done computing similarity matrix.\n"
          ]
        },
        {
          "output_type": "execute_result",
          "data": {
            "text/plain": [
              "<surprise.prediction_algorithms.knns.KNNBasic at 0x7f565d370df0>"
            ]
          },
          "metadata": {},
          "execution_count": 106
        }
      ]
    },
    {
      "cell_type": "code",
      "source": [
        "preds_knn = algo_knn.test(testset)\n",
        "preds_knn[:10]"
      ],
      "metadata": {
        "colab": {
          "base_uri": "https://localhost:8080/"
        },
        "id": "gzSHsyhXRQ8F",
        "outputId": "8642fb91-aaab-45bc-ba5e-e48f897d4b7e"
      },
      "execution_count": null,
      "outputs": [
        {
          "output_type": "execute_result",
          "data": {
            "text/plain": [
              "[Prediction(uid='416', iid='421', r_ui=5.0, est=3.68323553520574, details={'actual_k': 101, 'was_impossible': False}),\n",
              " Prediction(uid='327', iid='475', r_ui=4.0, est=3.8779325083890965, details={'actual_k': 200, 'was_impossible': False}),\n",
              " Prediction(uid='6', iid='496', r_ui=4.0, est=4.1601710236607685, details={'actual_k': 200, 'was_impossible': False}),\n",
              " Prediction(uid='249', iid='300', r_ui=4.0, est=3.7525481897114683, details={'actual_k': 200, 'was_impossible': False}),\n",
              " Prediction(uid='6', iid='297', r_ui=3.0, est=3.962322254302657, details={'actual_k': 48, 'was_impossible': False}),\n",
              " Prediction(uid='189', iid='657', r_ui=5.0, est=4.30337009899607, details={'actual_k': 129, 'was_impossible': False}),\n",
              " Prediction(uid='663', iid='282', r_ui=3.0, est=3.734018676196836, details={'actual_k': 200, 'was_impossible': False}),\n",
              " Prediction(uid='807', iid='1444', r_ui=3.0, est=2.609057689042965, details={'actual_k': 18, 'was_impossible': False}),\n",
              " Prediction(uid='688', iid='749', r_ui=5.0, est=3.358650008558805, details={'actual_k': 48, 'was_impossible': False}),\n",
              " Prediction(uid='560', iid='240', r_ui=3.0, est=2.8004630601222447, details={'actual_k': 147, 'was_impossible': False})]"
            ]
          },
          "metadata": {},
          "execution_count": 107
        }
      ]
    },
    {
      "cell_type": "code",
      "source": [
        "from surprise import accuracy"
      ],
      "metadata": {
        "id": "U7gtjWs4TNnJ"
      },
      "execution_count": null,
      "outputs": []
    },
    {
      "cell_type": "code",
      "source": [
        "accuracy.mse(preds_svd), accuracy.mae(preds_svd)#mae краще"
      ],
      "metadata": {
        "colab": {
          "base_uri": "https://localhost:8080/"
        },
        "id": "7ocCtuLKTTe2",
        "outputId": "dad3aa65-8c84-4ac5-f1e9-afa18a01069f"
      },
      "execution_count": null,
      "outputs": [
        {
          "output_type": "stream",
          "name": "stdout",
          "text": [
            "MSE: 0.9196\n",
            "MAE:  0.7663\n"
          ]
        },
        {
          "output_type": "execute_result",
          "data": {
            "text/plain": [
              "(0.9196197464255691, 0.7662579578276479)"
            ]
          },
          "metadata": {},
          "execution_count": 108
        }
      ]
    },
    {
      "cell_type": "code",
      "source": [
        "accuracy.mse(preds_knn), accuracy.mae(preds_knn)"
      ],
      "metadata": {
        "colab": {
          "base_uri": "https://localhost:8080/"
        },
        "id": "-gCn1mCvzLvN",
        "outputId": "6f5a9d2b-f303-4582-ed11-7f275d5577e0"
      },
      "execution_count": null,
      "outputs": [
        {
          "output_type": "stream",
          "name": "stdout",
          "text": [
            "MSE: 0.9955\n",
            "MAE:  0.7893\n"
          ]
        },
        {
          "output_type": "execute_result",
          "data": {
            "text/plain": [
              "(0.9955464678691386, 0.789288148412357)"
            ]
          },
          "metadata": {},
          "execution_count": 109
        }
      ]
    },
    {
      "cell_type": "markdown",
      "source": [
        "# **рекомендації для юзерів**"
      ],
      "metadata": {
        "id": "uk3EqD4jUg7f"
      }
    },
    {
      "cell_type": "code",
      "source": [
        "trainset1, testset1 = train_test_split(data, test_size=0.001)"
      ],
      "metadata": {
        "id": "ANdIjyihzuxK"
      },
      "execution_count": null,
      "outputs": []
    },
    {
      "cell_type": "code",
      "source": [
        "predictions = algo_knn.test(trainset1.build_anti_testset())"
      ],
      "metadata": {
        "id": "pjt1hgiMU-xR"
      },
      "execution_count": null,
      "outputs": []
    },
    {
      "cell_type": "code",
      "source": [
        "predictions[:5]"
      ],
      "metadata": {
        "colab": {
          "base_uri": "https://localhost:8080/"
        },
        "id": "JNlt1aB9Virf",
        "outputId": "2426ac15-352a-46b1-dc6e-9822f608d6c5"
      },
      "execution_count": null,
      "outputs": [
        {
          "output_type": "execute_result",
          "data": {
            "text/plain": [
              "[Prediction(uid='405', iid='150', r_ui=3.52990990990991, est=3.889823903524877, details={'actual_k': 146, 'was_impossible': False}),\n",
              " Prediction(uid='405', iid='124', r_ui=3.52990990990991, est=3.917481332041734, details={'actual_k': 172, 'was_impossible': False}),\n",
              " Prediction(uid='405', iid='748', r_ui=3.52990990990991, est=3.084441668568253, details={'actual_k': 200, 'was_impossible': False}),\n",
              " Prediction(uid='405', iid='300', r_ui=3.52990990990991, est=3.6820660088850325, details={'actual_k': 200, 'was_impossible': False}),\n",
              " Prediction(uid='405', iid='1244', r_ui=3.52990990990991, est=2.8471448281000766, details={'actual_k': 34, 'was_impossible': False})]"
            ]
          },
          "metadata": {},
          "execution_count": 114
        }
      ]
    },
    {
      "cell_type": "markdown",
      "source": [
        "[Prediction(uid='405', iid='150', r_ui=3.52990990990991, est=3.889823903524877, details={'actual_k': 146, 'was_impossible': False}),\n",
        "\n",
        " Prediction(uid='405', iid='124', r_ui=3.52990990990991, est=3.917481332041734, details={'actual_k': 172, 'was_impossible': False}),\n",
        "\n",
        " Prediction(uid='405', iid='748', r_ui=3.52990990990991, est=3.084441668568253, details={'actual_k': 200, 'was_impossible': False}),\n",
        "\n",
        " Prediction(uid='405', iid='300', r_ui=3.52990990990991, est=3.6820660088850325, details={'actual_k': 200, 'was_impossible': False}),\n",
        "\n",
        " Prediction(uid='405', iid='1244', r_ui=3.52990990990991, est=2.8471448281000766, details={'actual_k': 34, 'was_impossible': False})]\n",
        "\n",
        "відсортувати по спаданню, порекомендувати топ 20, 50 або..."
      ],
      "metadata": {
        "id": "xg8vT6n_VucL"
      }
    },
    {
      "cell_type": "code",
      "source": [
        "\n",
        "top_n = defaultdict(list)\n",
        "for uid, iid, r_ui, est,details in predictions:\n",
        "  top_n[uid].append((iid, est))"
      ],
      "metadata": {
        "id": "jh4iWbg6VuHC"
      },
      "execution_count": null,
      "outputs": []
    },
    {
      "cell_type": "code",
      "source": [
        "top_n[\"405\"][:5]"
      ],
      "metadata": {
        "colab": {
          "base_uri": "https://localhost:8080/"
        },
        "id": "0FhKakJhW-uj",
        "outputId": "f89146dc-e6c4-401b-85c1-ef34cd956af1"
      },
      "execution_count": null,
      "outputs": [
        {
          "output_type": "execute_result",
          "data": {
            "text/plain": [
              "[('150', 3.889823903524877),\n",
              " ('124', 3.917481332041734),\n",
              " ('748', 3.084441668568253),\n",
              " ('300', 3.6820660088850325),\n",
              " ('1244', 2.8471448281000766)]"
            ]
          },
          "metadata": {},
          "execution_count": 116
        }
      ]
    },
    {
      "cell_type": "code",
      "source": [
        "for uid, user_ratings in top_n.items():\n",
        "  top_n[uid] = sorted(user_ratings, key=lambda x: -x[1])\n"
      ],
      "metadata": {
        "id": "gaF-QFSOXKXJ"
      },
      "execution_count": null,
      "outputs": []
    },
    {
      "cell_type": "markdown",
      "source": [
        "вивести перші рекомендації для юзерів"
      ],
      "metadata": {
        "id": "SJOswYNgYDNE"
      }
    },
    {
      "cell_type": "code",
      "source": [
        "for uid, user_ratings in list(top_n.items())[:10]:\n",
        "  print(f\"{uid=}\", [x[0] for x in user_ratings[:10]])"
      ],
      "metadata": {
        "colab": {
          "base_uri": "https://localhost:8080/"
        },
        "id": "YVOmkb3LYB8Q",
        "outputId": "f6b6f3c3-8082-42e0-ca97-2a38f7c867c2"
      },
      "execution_count": null,
      "outputs": [
        {
          "output_type": "stream",
          "name": "stdout",
          "text": [
            "uid='405' ['1189', '1599', '1467', '1293', '1201', '814', '1536', '1653', '1500', '1122']\n",
            "uid='460' ['1189', '1599', '1467', '1293', '1201', '814', '1536', '1653', '1500', '1122']\n",
            "uid='285' ['1189', '1599', '1467', '1293', '1201', '814', '1536', '1653', '1500', '1122']\n",
            "uid='542' ['1189', '1599', '1467', '1293', '1201', '814', '1536', '1653', '1500', '1122']\n",
            "uid='463' ['1189', '1599', '1467', '1293', '1201', '814', '1536', '1653', '1500', '1122']\n",
            "uid='178' ['1189', '1599', '1467', '1293', '1201', '814', '1536', '1653', '1500', '1122']\n",
            "uid='487' ['1189', '1599', '1467', '1293', '1201', '814', '1536', '1653', '1122', '1500']\n",
            "uid='262' ['1189', '1599', '1467', '1201', '814', '1536', '1653', '1500', '1122', '1293']\n",
            "uid='767' ['1189', '1599', '1467', '1293', '1201', '814', '1536', '1653', '1500', '1122']\n",
            "uid='82' ['1189', '1599', '1467', '1293', '1201', '814', '1536', '1653', '1500', '1122']\n"
          ]
        }
      ]
    }
  ]
}