{
  "nbformat": 4,
  "nbformat_minor": 0,
  "metadata": {
    "colab": {
      "provenance": [],
      "authorship_tag": "ABX9TyNdTvkItwu9y5G0nyWhnJ+C",
      "include_colab_link": true
    },
    "kernelspec": {
      "name": "python3",
      "display_name": "Python 3"
    },
    "language_info": {
      "name": "python"
    }
  },
  "cells": [
    {
      "cell_type": "markdown",
      "metadata": {
        "id": "view-in-github",
        "colab_type": "text"
      },
      "source": [
        "<a href=\"https://colab.research.google.com/github/olhaishchenko/-data_science/blob/master/Untitled0.ipynb\" target=\"_parent\"><img src=\"https://colab.research.google.com/assets/colab-badge.svg\" alt=\"Open In Colab\"/></a>"
      ]
    },
    {
      "cell_type": "code",
      "execution_count": 1,
      "metadata": {
        "colab": {
          "base_uri": "https://localhost:8080/"
        },
        "id": "QHccbD0L5nA-",
        "outputId": "b0a272aa-23db-4b68-cbcc-0ad41dfc32b6"
      },
      "outputs": [
        {
          "output_type": "stream",
          "name": "stdout",
          "text": [
            "['Action' 'Drama' 'Comedy']\n"
          ]
        }
      ],
      "source": [
        "import pandas as pd\n",
        "\n",
        "# Завантаження та обробка даних\n",
        "data = {\n",
        "    'title': ['Movie 1', 'Movie 2', 'Movie 3', 'Movie 4'],\n",
        "    'genre': ['Action', 'Drama', 'Comedy', 'Action']\n",
        "}\n",
        "\n",
        "df = pd.DataFrame(data)  # Створення DataFrame з даних\n",
        "\n",
        "# Унікальні значення в колонці 'genre'\n",
        "unique_values = df['genre'].unique()\n",
        "\n",
        "# Виведення унікальних значень\n",
        "print(unique_values)"
      ]
    },
    {
      "cell_type": "code",
      "source": [
        "import pandas as pd\n",
        "\n",
        "# Завантаження та обробка даних\n",
        "data = {\n",
        "    'title': ['Book 1', 'Book 2', 'Book 3', 'Book 4'],\n",
        "    'year': [2015, 2015, 2014, 2015],\n",
        "    'price': [5.99, 9.99, 4.99, 7.99]\n",
        "}\n",
        "\n",
        "df = pd.DataFrame(data)  # Створення DataFrame з даних\n",
        "\n",
        "# Фільтрація та сортування\n",
        "filtered_books = df[(df['year'] == 2015) & (df['price'] < 8)]\n",
        "sorted_books = filtered_books.sort_values('price')\n",
        "print(sorted_books)\n",
        "\n",
        "# Остання книга відсортованого списку\n",
        "last_book = sorted_books['title'].iloc[-1]\n",
        "\n",
        "# Виведення результату\n",
        "print(\"Остання книга у відсортованому списку:\", last_book)"
      ],
      "metadata": {
        "colab": {
          "base_uri": "https://localhost:8080/"
        },
        "id": "ygxe7CGsKRdE",
        "outputId": "ab25c8d5-d6a1-40f0-ae8c-418f9ccf1c94"
      },
      "execution_count": 3,
      "outputs": [
        {
          "output_type": "stream",
          "name": "stdout",
          "text": [
            "    title  year  price\n",
            "0  Book 1  2015   5.99\n",
            "3  Book 4  2015   7.99\n",
            "Остання книга у відсортованому списку: Book 4\n"
          ]
        }
      ]
    }
  ]
}