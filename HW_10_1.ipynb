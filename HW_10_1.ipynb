{
  "nbformat": 4,
  "nbformat_minor": 0,
  "metadata": {
    "colab": {
      "provenance": [],
      "gpuType": "T4",
      "authorship_tag": "ABX9TyMj/+Aa0qmtSqHk5Rjkqk+A",
      "include_colab_link": true
    },
    "kernelspec": {
      "name": "python3",
      "display_name": "Python 3"
    },
    "language_info": {
      "name": "python"
    },
    "accelerator": "GPU"
  },
  "cells": [
    {
      "cell_type": "markdown",
      "metadata": {
        "id": "view-in-github",
        "colab_type": "text"
      },
      "source": [
        "<a href=\"https://colab.research.google.com/github/olhaishchenko/-data_science/blob/master/HW_10_1.ipynb\" target=\"_parent\"><img src=\"https://colab.research.google.com/assets/colab-badge.svg\" alt=\"Open In Colab\"/></a>"
      ]
    },
    {
      "cell_type": "code",
      "execution_count": null,
      "metadata": {
        "id": "yrvAlZ9dZ0If"
      },
      "outputs": [],
      "source": [
        "import math\n",
        "import os\n",
        "import random\n",
        "from PIL import Image\n",
        "\n",
        "import numpy as np\n",
        "import pandas as pd\n",
        "import cv2\n",
        "\n",
        "import matplotlib.pyplot as plt\n",
        "import seaborn as sn\n",
        "import tensorflow as tf\n",
        "from sklearn.model_selection import train_test_split\n",
        "from keras.datasets import fashion_mnist\n",
        "from tensorflow.keras.callbacks import EarlyStopping, ModelCheckpoint\n",
        "from tensorflow.keras.layers import Dense, Dropout, MaxPooling2D, Conv2D, Flatten\n",
        "from tensorflow.keras.models import Sequential, Model\n",
        "from tensorflow.keras.metrics import CategoricalAccuracy\n",
        "import albumentations as A\n"
      ]
    },
    {
      "cell_type": "code",
      "source": [
        "def set_seed(seed_value):\n",
        "    random.seed(seed_value)\n",
        "    np.random.seed(seed_value)\n",
        "    tf.random.set_seed(seed_value)\n",
        "    os.environ[\"PYTHONHASHSEED\"] = str(seed_value)\n",
        "    os.environ[\"TF_DETERMINISTIC_OPS\"] = \"true\"\n",
        "\n",
        "\n",
        "set_seed(42)"
      ],
      "metadata": {
        "id": "edd4r07zO4M0"
      },
      "execution_count": null,
      "outputs": []
    },
    {
      "cell_type": "code",
      "source": [
        "num_classes = 10\n",
        "num_features = 28*28\n",
        "new_size = (32, 32)\n",
        "\n",
        "lr = 0.001\n",
        "n_epochs = 10\n",
        "batch_size = 256"
      ],
      "metadata": {
        "id": "bPJj_q1hZ63Z"
      },
      "execution_count": null,
      "outputs": []
    },
    {
      "cell_type": "code",
      "source": [
        "# import matplotlib.pyplot as plt\n",
        "# import tensorflow as tf\n",
        "\n",
        "# # Завантажте тренувальний набір даних fashion_mnist\n",
        "# (train_images, train_labels), (_, _) = tf.keras.datasets.fashion_mnist.load_data()\n",
        "\n",
        "# # Задайте новий розмір зображень (32x32)\n",
        "# new_size = (32, 32)\n",
        "\n",
        "# # Змініть розмір зображень за допомогою функції tf.image.resize\n",
        "# resized_images = tf.image.resize(train_images, [new_size[0], new_size[1]])\n",
        "\n",
        "# # Виберіть декілька прикладів для відображення\n",
        "# num_examples = 5\n",
        "\n",
        "# plt.figure(figsize=(10, 5))\n",
        "# for i in range(num_examples):\n",
        "#     plt.subplot(1, num_examples, i + 1)\n",
        "#     plt.imshow(resized_images[i], cmap='gray')\n",
        "#     plt.title(f'Label: {train_labels[i]}')\n",
        "#     plt.axis('off')\n",
        "\n",
        "# plt.tight_layout()\n",
        "# plt.show()\n"
      ],
      "metadata": {
        "id": "aV3VsHJ8Ahl9"
      },
      "execution_count": null,
      "outputs": []
    },
    {
      "cell_type": "code",
      "source": [
        "\n",
        "label = \\\n",
        "{\n",
        "    0:\"T-shirt/top\",\n",
        "    1:\"Trouser\",\n",
        "    2:\"Pullover\",\n",
        "    3:\"Dress\",\n",
        "    4:\"Coat\",\n",
        "    5:\"Sandal\",\n",
        "    6:\"Shirt\",\n",
        "    7:\"Sneaker\",\n",
        "    8:\"Bag\",\n",
        "    9:\"Ankle boot\",\n",
        "}\n"
      ],
      "metadata": {
        "id": "tyqoM8XUabxj"
      },
      "execution_count": null,
      "outputs": []
    },
    {
      "cell_type": "markdown",
      "source": [
        "# **Частина 1**\n",
        "\n",
        "В якості домашнього завдання вам пропонується створити нейронну мережу за допомогою механізмів Keras, яка буде класифікувати товари із датасету fasion_mnist.\n",
        "\n",
        "На відміну від попереднього завдання вам пропонується створити згорткову нейромережу. Підберіть архітектуру мережі та навчіть її на даних із датасету fasion_mnist. Спробуйте досягти максимально можливої точності класифікації за рахунок маніпуляції параметрами мережі. Порівняйте точність отриманої згорткової мережі з точністю багатошарової мережі з попереднього завдання. Зробіть висновки."
      ],
      "metadata": {
        "id": "47m9uM2MfkXl"
      }
    },
    {
      "cell_type": "code",
      "source": [
        "# Загружаем датасет\n",
        "(x_train, y_train), (x_test, y_test) = tf.keras.datasets.fashion_mnist.load_data()"
      ],
      "metadata": {
        "id": "2m9uiRUVaOVN"
      },
      "execution_count": null,
      "outputs": []
    },
    {
      "cell_type": "code",
      "source": [
        "x_train, x_test = np.array(x_train, np.float32), np.array(x_test, np.float32)\n",
        "x_train, x_test = x_train.reshape(-1, 28, 28, 1), x_test.reshape(-1, 28, 28, 1)\n",
        "x_train, x_test = x_train / 255., x_test / 255."
      ],
      "metadata": {
        "id": "RpbcR3o-HJZT"
      },
      "execution_count": null,
      "outputs": []
    },
    {
      "cell_type": "code",
      "source": [
        "idx_sample = 15\n",
        "plt.imshow(x_train[idx_sample].reshape(28, 28), cmap=\"gray\")\n",
        "plt.title(label[y_train[idx_sample]])"
      ],
      "metadata": {
        "id": "H5JORy-0cxSP"
      },
      "execution_count": null,
      "outputs": []
    },
    {
      "cell_type": "code",
      "source": [
        "class Dataset(tf.keras.utils.Sequence):\n",
        "    def __init__(self, x, y, shuffle=True, batch_size=256, transforms=None):\n",
        "        self.x = x\n",
        "        self.y = y\n",
        "        self.shuffle = shuffle\n",
        "        self.indexes = np.arange(len(self.x))\n",
        "        self.batch_size = batch_size\n",
        "        self.transforms = transforms\n",
        "\n",
        "        if shuffle:\n",
        "            self.on_epoch_end()\n",
        "\n",
        "    def __len__(self):\n",
        "        return len(self.indexes) // self.batch_size\n",
        "\n",
        "    def __getitem__(self, n):\n",
        "        indexes = self.indexes[n * self.batch_size : (n + 1) * self.batch_size]\n",
        "        batch_x = self.x[indexes]\n",
        "        batch_y = tf.keras.utils.to_categorical(self.y[indexes], num_classes)\n",
        "\n",
        "        return batch_x, batch_y\n",
        "\n",
        "    def on_epoch_end(self):\n",
        "        if self.shuffle:\n",
        "            np.random.shuffle(self.indexes)"
      ],
      "metadata": {
        "id": "Z7d4jOkQgMZp"
      },
      "execution_count": null,
      "outputs": []
    },
    {
      "cell_type": "code",
      "source": [
        "x_train_part, x_valid, y_train_part, y_valid = train_test_split(x_train, y_train, test_size=0.2, shuffle=True)"
      ],
      "metadata": {
        "id": "puqncIBtJ5RR"
      },
      "execution_count": null,
      "outputs": []
    },
    {
      "cell_type": "code",
      "source": [
        "x_train_part.shape, y_train_part.shape, x_valid.shape, x_test.shape"
      ],
      "metadata": {
        "colab": {
          "base_uri": "https://localhost:8080/"
        },
        "id": "xkIXTLyvh-AN",
        "outputId": "eae55e0b-f731-450c-93a9-e401b0db9460"
      },
      "execution_count": null,
      "outputs": [
        {
          "output_type": "execute_result",
          "data": {
            "text/plain": [
              "((48000, 28, 28, 1), (48000,), (12000, 28, 28, 1), (10000, 28, 28, 1))"
            ]
          },
          "metadata": {},
          "execution_count": 11
        }
      ]
    },
    {
      "cell_type": "code",
      "source": [
        "train_dataset = Dataset(x_train, y_train, shuffle=True, batch_size=batch_size)\n",
        "valid_dataset = Dataset(x_valid, y_valid, shuffle=False, batch_size=batch_size)"
      ],
      "metadata": {
        "id": "cdscGej2idd2"
      },
      "execution_count": null,
      "outputs": []
    },
    {
      "cell_type": "code",
      "source": [
        "X, y = train_dataset[0]\n",
        "X.shape, y.shape"
      ],
      "metadata": {
        "colab": {
          "base_uri": "https://localhost:8080/"
        },
        "id": "iOrCAvhw8Sf4",
        "outputId": "adc8c3d5-be54-423e-d1fd-36269ae56d01"
      },
      "execution_count": null,
      "outputs": [
        {
          "output_type": "execute_result",
          "data": {
            "text/plain": [
              "((256, 28, 28, 1), (256, 10))"
            ]
          },
          "metadata": {},
          "execution_count": 13
        }
      ]
    },
    {
      "cell_type": "code",
      "source": [
        "# from tensorflow.keras.initializers import RandomNormal\n",
        "\n",
        "model = Sequential([\n",
        "    Conv2D(64, (3, 3), activation=\"relu\", input_shape=(28, 28, 1)),\n",
        "    MaxPooling2D((2, 2)),\n",
        "\n",
        "    Conv2D(128, (3, 3), activation=\"relu\"),\n",
        "    MaxPooling2D((2, 2)),\n",
        "\n",
        "    Conv2D(128, (3, 3), activation=\"relu\"),\n",
        "\n",
        "    Flatten(),\n",
        "    Dense(128, activation=\"relu\"),\n",
        "\n",
        "    Dense(10, activation=\"softmax\")\n",
        "])"
      ],
      "metadata": {
        "id": "MRxw_1iti430"
      },
      "execution_count": null,
      "outputs": []
    },
    {
      "cell_type": "code",
      "source": [
        "model.summary()"
      ],
      "metadata": {
        "id": "7gEKLUwmGexv",
        "outputId": "4d135e5d-2ce1-4f02-f3bd-0d64a2bf9e5e",
        "colab": {
          "base_uri": "https://localhost:8080/"
        }
      },
      "execution_count": null,
      "outputs": [
        {
          "output_type": "stream",
          "name": "stdout",
          "text": [
            "Model: \"sequential\"\n",
            "_________________________________________________________________\n",
            " Layer (type)                Output Shape              Param #   \n",
            "=================================================================\n",
            " conv2d (Conv2D)             (None, 26, 26, 64)        640       \n",
            "                                                                 \n",
            " max_pooling2d (MaxPooling2D  (None, 13, 13, 64)       0         \n",
            " )                                                               \n",
            "                                                                 \n",
            " conv2d_1 (Conv2D)           (None, 11, 11, 128)       73856     \n",
            "                                                                 \n",
            " max_pooling2d_1 (MaxPooling  (None, 5, 5, 128)        0         \n",
            " 2D)                                                             \n",
            "                                                                 \n",
            " conv2d_2 (Conv2D)           (None, 3, 3, 128)         147584    \n",
            "                                                                 \n",
            " flatten (Flatten)           (None, 1152)              0         \n",
            "                                                                 \n",
            " dense (Dense)               (None, 128)               147584    \n",
            "                                                                 \n",
            " dense_1 (Dense)             (None, 10)                1290      \n",
            "                                                                 \n",
            "=================================================================\n",
            "Total params: 370,954\n",
            "Trainable params: 370,954\n",
            "Non-trainable params: 0\n",
            "_________________________________________________________________\n"
          ]
        }
      ]
    },
    {
      "cell_type": "code",
      "source": [
        "callback_early_stopping = EarlyStopping(\n",
        "    monitor=\"val_loss\",\n",
        "    patience=2,\n",
        "    verbose=1\n",
        ")\n",
        "\n",
        "\n",
        "callback_save = ModelCheckpoint(\n",
        "    \"best.hdf5\",\n",
        "    monitor=\"val_loss\",\n",
        "    save_best_only=True,\n",
        "    verbose=1\n",
        ")"
      ],
      "metadata": {
        "id": "siccqkE5OWzd"
      },
      "execution_count": null,
      "outputs": []
    },
    {
      "cell_type": "code",
      "source": [
        "# from tensorflow.keras.optimizers import Adam, SGD\n",
        "\n",
        "model.compile(\n",
        "    optimizer='rmsprop',\n",
        "    loss=\"categorical_crossentropy\",\n",
        "    metrics=[CategoricalAccuracy()],\n",
        ")"
      ],
      "metadata": {
        "id": "Txn_vRowi7zu"
      },
      "execution_count": null,
      "outputs": []
    },
    {
      "cell_type": "code",
      "source": [
        "history = model.fit(\n",
        "    train_dataset,\n",
        "    validation_data=valid_dataset,\n",
        "    epochs=20,\n",
        "    verbose=1,\n",
        "    callbacks=[callback_early_stopping, callback_save]\n",
        ")"
      ],
      "metadata": {
        "colab": {
          "base_uri": "https://localhost:8080/"
        },
        "id": "dYmBUWkCjBJF",
        "outputId": "eb665cd0-9341-4b17-8f98-3262148c3d8c"
      },
      "execution_count": null,
      "outputs": [
        {
          "output_type": "stream",
          "name": "stdout",
          "text": [
            "Epoch 1/20\n",
            "233/234 [============================>.] - ETA: 0s - loss: 0.6874 - categorical_accuracy: 0.7478\n",
            "Epoch 1: val_loss improved from inf to 0.42227, saving model to best.hdf5\n",
            "234/234 [==============================] - 14s 15ms/step - loss: 0.6862 - categorical_accuracy: 0.7483 - val_loss: 0.4223 - val_categorical_accuracy: 0.8422\n",
            "Epoch 2/20\n",
            "232/234 [============================>.] - ETA: 0s - loss: 0.3799 - categorical_accuracy: 0.8606\n",
            "Epoch 2: val_loss improved from 0.42227 to 0.31866, saving model to best.hdf5\n",
            "234/234 [==============================] - 3s 14ms/step - loss: 0.3798 - categorical_accuracy: 0.8607 - val_loss: 0.3187 - val_categorical_accuracy: 0.8829\n",
            "Epoch 3/20\n",
            "233/234 [============================>.] - ETA: 0s - loss: 0.3118 - categorical_accuracy: 0.8858\n",
            "Epoch 3: val_loss improved from 0.31866 to 0.28411, saving model to best.hdf5\n",
            "234/234 [==============================] - 3s 13ms/step - loss: 0.3118 - categorical_accuracy: 0.8858 - val_loss: 0.2841 - val_categorical_accuracy: 0.8931\n",
            "Epoch 4/20\n",
            "231/234 [============================>.] - ETA: 0s - loss: 0.2723 - categorical_accuracy: 0.9001\n",
            "Epoch 4: val_loss improved from 0.28411 to 0.23903, saving model to best.hdf5\n",
            "234/234 [==============================] - 3s 14ms/step - loss: 0.2722 - categorical_accuracy: 0.9001 - val_loss: 0.2390 - val_categorical_accuracy: 0.9101\n",
            "Epoch 5/20\n",
            "231/234 [============================>.] - ETA: 0s - loss: 0.2441 - categorical_accuracy: 0.9099\n",
            "Epoch 5: val_loss did not improve from 0.23903\n",
            "234/234 [==============================] - 3s 13ms/step - loss: 0.2433 - categorical_accuracy: 0.9101 - val_loss: 0.2449 - val_categorical_accuracy: 0.9096\n",
            "Epoch 6/20\n",
            "232/234 [============================>.] - ETA: 0s - loss: 0.2221 - categorical_accuracy: 0.9186\n",
            "Epoch 6: val_loss improved from 0.23903 to 0.20374, saving model to best.hdf5\n",
            "234/234 [==============================] - 3s 13ms/step - loss: 0.2221 - categorical_accuracy: 0.9187 - val_loss: 0.2037 - val_categorical_accuracy: 0.9241\n",
            "Epoch 7/20\n",
            "232/234 [============================>.] - ETA: 0s - loss: 0.2003 - categorical_accuracy: 0.9265\n",
            "Epoch 7: val_loss improved from 0.20374 to 0.17327, saving model to best.hdf5\n",
            "234/234 [==============================] - 3s 14ms/step - loss: 0.2007 - categorical_accuracy: 0.9263 - val_loss: 0.1733 - val_categorical_accuracy: 0.9347\n",
            "Epoch 8/20\n",
            "232/234 [============================>.] - ETA: 0s - loss: 0.1851 - categorical_accuracy: 0.9321\n",
            "Epoch 8: val_loss improved from 0.17327 to 0.15794, saving model to best.hdf5\n",
            "234/234 [==============================] - 3s 14ms/step - loss: 0.1853 - categorical_accuracy: 0.9319 - val_loss: 0.1579 - val_categorical_accuracy: 0.9429\n",
            "Epoch 9/20\n",
            "234/234 [==============================] - ETA: 0s - loss: 0.1677 - categorical_accuracy: 0.9371\n",
            "Epoch 9: val_loss improved from 0.15794 to 0.14522, saving model to best.hdf5\n",
            "234/234 [==============================] - 3s 14ms/step - loss: 0.1677 - categorical_accuracy: 0.9371 - val_loss: 0.1452 - val_categorical_accuracy: 0.9456\n",
            "Epoch 10/20\n",
            "230/234 [============================>.] - ETA: 0s - loss: 0.1534 - categorical_accuracy: 0.9433\n",
            "Epoch 10: val_loss improved from 0.14522 to 0.14172, saving model to best.hdf5\n",
            "234/234 [==============================] - 4s 15ms/step - loss: 0.1535 - categorical_accuracy: 0.9432 - val_loss: 0.1417 - val_categorical_accuracy: 0.9493\n",
            "Epoch 11/20\n",
            "234/234 [==============================] - ETA: 0s - loss: 0.1384 - categorical_accuracy: 0.9488\n",
            "Epoch 11: val_loss improved from 0.14172 to 0.10778, saving model to best.hdf5\n",
            "234/234 [==============================] - 3s 14ms/step - loss: 0.1384 - categorical_accuracy: 0.9488 - val_loss: 0.1078 - val_categorical_accuracy: 0.9615\n",
            "Epoch 12/20\n",
            "232/234 [============================>.] - ETA: 0s - loss: 0.1252 - categorical_accuracy: 0.9539\n",
            "Epoch 12: val_loss did not improve from 0.10778\n",
            "234/234 [==============================] - 5s 21ms/step - loss: 0.1250 - categorical_accuracy: 0.9539 - val_loss: 0.1105 - val_categorical_accuracy: 0.9592\n",
            "Epoch 13/20\n",
            "230/234 [============================>.] - ETA: 0s - loss: 0.1138 - categorical_accuracy: 0.9583\n",
            "Epoch 13: val_loss improved from 0.10778 to 0.09095, saving model to best.hdf5\n",
            "234/234 [==============================] - 3s 15ms/step - loss: 0.1136 - categorical_accuracy: 0.9584 - val_loss: 0.0909 - val_categorical_accuracy: 0.9670\n",
            "Epoch 14/20\n",
            "232/234 [============================>.] - ETA: 0s - loss: 0.1005 - categorical_accuracy: 0.9627\n",
            "Epoch 14: val_loss improved from 0.09095 to 0.07786, saving model to best.hdf5\n",
            "234/234 [==============================] - 4s 18ms/step - loss: 0.1004 - categorical_accuracy: 0.9628 - val_loss: 0.0779 - val_categorical_accuracy: 0.9725\n",
            "Epoch 15/20\n",
            "232/234 [============================>.] - ETA: 0s - loss: 0.0907 - categorical_accuracy: 0.9665\n",
            "Epoch 15: val_loss did not improve from 0.07786\n",
            "234/234 [==============================] - 5s 22ms/step - loss: 0.0906 - categorical_accuracy: 0.9665 - val_loss: 0.0854 - val_categorical_accuracy: 0.9691\n",
            "Epoch 16/20\n",
            "234/234 [==============================] - ETA: 0s - loss: 0.0809 - categorical_accuracy: 0.9702\n",
            "Epoch 16: val_loss improved from 0.07786 to 0.05935, saving model to best.hdf5\n",
            "234/234 [==============================] - 3s 14ms/step - loss: 0.0809 - categorical_accuracy: 0.9702 - val_loss: 0.0593 - val_categorical_accuracy: 0.9801\n",
            "Epoch 17/20\n",
            "233/234 [============================>.] - ETA: 0s - loss: 0.0723 - categorical_accuracy: 0.9733\n",
            "Epoch 17: val_loss did not improve from 0.05935\n",
            "234/234 [==============================] - 4s 17ms/step - loss: 0.0724 - categorical_accuracy: 0.9733 - val_loss: 0.0686 - val_categorical_accuracy: 0.9755\n",
            "Epoch 18/20\n",
            "233/234 [============================>.] - ETA: 0s - loss: 0.0649 - categorical_accuracy: 0.9758\n",
            "Epoch 18: val_loss improved from 0.05935 to 0.04985, saving model to best.hdf5\n",
            "234/234 [==============================] - 4s 18ms/step - loss: 0.0649 - categorical_accuracy: 0.9758 - val_loss: 0.0499 - val_categorical_accuracy: 0.9826\n",
            "Epoch 19/20\n",
            "234/234 [==============================] - ETA: 0s - loss: 0.0583 - categorical_accuracy: 0.9787\n",
            "Epoch 19: val_loss improved from 0.04985 to 0.04008, saving model to best.hdf5\n",
            "234/234 [==============================] - 3s 13ms/step - loss: 0.0583 - categorical_accuracy: 0.9787 - val_loss: 0.0401 - val_categorical_accuracy: 0.9874\n",
            "Epoch 20/20\n",
            "230/234 [============================>.] - ETA: 0s - loss: 0.0515 - categorical_accuracy: 0.9806\n",
            "Epoch 20: val_loss did not improve from 0.04008\n",
            "234/234 [==============================] - 3s 14ms/step - loss: 0.0523 - categorical_accuracy: 0.9802 - val_loss: 0.0490 - val_categorical_accuracy: 0.9837\n"
          ]
        }
      ]
    },
    {
      "cell_type": "markdown",
      "source": [],
      "metadata": {
        "id": "3MOQNA_JH7jb"
      }
    },
    {
      "cell_type": "code",
      "source": [
        "model.save_weights(\"my_model.hdf5\")"
      ],
      "metadata": {
        "id": "SHclcBEISZcc"
      },
      "execution_count": null,
      "outputs": []
    },
    {
      "cell_type": "code",
      "source": [
        "plt.plot(history.history[\"loss\"], label=\"train loss\")\n",
        "plt.plot(history.history[\"val_loss\"], label=\"valid loss\")\n",
        "plt.legend()\n",
        "plt.grid()"
      ],
      "metadata": {
        "id": "-KvTBysxjIkH",
        "colab": {
          "base_uri": "https://localhost:8080/",
          "height": 430
        },
        "outputId": "b232708c-a2c3-48d6-fe45-b70eb0dcc552"
      },
      "execution_count": null,
      "outputs": [
        {
          "output_type": "display_data",
          "data": {
            "text/plain": [
              "<Figure size 640x480 with 1 Axes>"
            ],
            "image/png": "[encoded data removed]"
          },
          "metadata": {}
        }
      ]
    },
    {
      "cell_type": "code",
      "source": [
        "plt.plot(history.history[\"categorical_accuracy\"], label=\"train loss\")\n",
        "plt.plot(history.history[\"val_categorical_accuracy\"], label=\"valid loss\")\n",
        "plt.legend()\n",
        "plt.grid()"
      ],
      "metadata": {
        "id": "G8gDAUiUjNGr",
        "colab": {
          "base_uri": "https://localhost:8080/",
          "height": 430
        },
        "outputId": "ab782841-6438-4dc9-8d43-4c98ad063357"
      },
      "execution_count": null,
      "outputs": [
        {
          "output_type": "display_data",
          "data": {
            "text/plain": [
              "<Figure size 640x480 with 1 Axes>"
            ],
            "image/png": "[encoded data removed]"
          },
          "metadata": {}
        }
      ]
    },
    {
      "cell_type": "code",
      "source": [
        "test_out = model(x_test).numpy()"
      ],
      "metadata": {
        "id": "jXN-O4mKTIo5"
      },
      "execution_count": null,
      "outputs": []
    },
    {
      "cell_type": "code",
      "source": [
        "accuracy_test = np.mean(test_out.argmax(axis=1) == y_test)\n",
        "print(f\"Accuracy test data: {accuracy_test.round(5)}\" )"
      ],
      "metadata": {
        "id": "W2MtWzySTSlQ",
        "colab": {
          "base_uri": "https://localhost:8080/"
        },
        "outputId": "d8f426aa-3c17-49e2-d0e1-53411f6c2afb"
      },
      "execution_count": null,
      "outputs": [
        {
          "output_type": "stream",
          "name": "stdout",
          "text": [
            "Accuracy test data: 0.9132\n"
          ]
        }
      ]
    },
    {
      "cell_type": "markdown",
      "source": [
        "**best_task_9**\n",
        "Epoch 19: val_loss did not improve from 0.12611\n",
        "234/234 [==============================] - 2s 8ms/step - loss: 0.1414 - categorical_accuracy: 0.9446 - val_loss: 0.1388 - val_categorical_accuracy: 0.9462\n",
        "\n",
        "        Dense(1024, activation=\"relu\", input_shape=(num_features,)),\n",
        "        Dense(1024, activation=\"relu\"),\n",
        "        Dense(1024, activation=\"relu\"),\n",
        "        Dense(10, activation=\"softmax\"),\n",
        "optimizer=**Adam**\n",
        "\n",
        "batch_size=**256** lr=**0.001** n_epochs=**20**\n",
        "\n",
        "Accuracy test data: **0.897**"
      ],
      "metadata": {
        "id": "rGS9DGLlZGMy"
      }
    }
  ]
}